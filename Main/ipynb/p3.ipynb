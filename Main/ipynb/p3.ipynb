{
 "cells": [
  {
   "cell_type": "markdown",
   "id": "af5a9d29",
   "metadata": {},
   "source": [
    "# Financial Fraud Detection System\n",
    "\n",
    "This notebook implements a robust fraud detection system for financial transactions. The system is designed to identify fraudulent transactions while minimizing false positives, with an emphasis on handling imbalanced data, temporal validation, and model explainability."
   ]
  },
  {
   "cell_type": "markdown",
   "id": "142f37d6",
   "metadata": {},
   "source": [
    "### Dataset\n",
    "The dataset used is the 'Credit Card Fraud Detection' dataset available at [Kaggle](https://www.kaggle.com/datasets/mlg-ulb/creditcardfraud)."
   ]
  },
  {
   "cell_type": "code",
   "execution_count": 1,
   "id": "4399c827",
   "metadata": {
    "tags": []
   },
   "outputs": [],
   "source": [
    "# Import libraries\n",
    "import pandas as pd\n",
    "import numpy as np\n",
    "import matplotlib.pyplot as plt\n",
    "import seaborn as sns\n",
    "from sklearn.model_selection import train_test_split, TimeSeriesSplit\n",
    "from sklearn.preprocessing import StandardScaler\n",
    "from imblearn.over_sampling import SMOTE\n",
    "from sklearn.decomposition import PCA\n",
    "from sklearn.random_projection import SparseRandomProjection\n",
    "from sklearn.ensemble import RandomForestClassifier\n",
    "from sklearn.ensemble import GradientBoostingClassifier\n",
    "from xgboost import XGBClassifier\n",
    "from sklearn.metrics import classification_report, roc_auc_score, precision_recall_curve, f1_score, confusion_matrix\n",
    "from sklearn.utils.class_weight import compute_class_weight\n",
    "import warnings\n",
    "\n",
    "warnings.filterwarnings(\"ignore\")"
   ]
  },
  {
   "cell_type": "code",
   "execution_count": 2,
   "id": "6f31211f",
   "metadata": {},
   "outputs": [
    {
     "name": "stdout",
     "output_type": "stream",
     "text": [
      "                 Time        V1        V2        V3        V4        V5  \\\n",
      "0 1970-01-01 00:00:00 -1.359807 -0.072781  2.536347  1.378155 -0.338321   \n",
      "1 1970-01-01 00:00:00  1.191857  0.266151  0.166480  0.448154  0.060018   \n",
      "2 1970-01-01 00:00:01 -1.358354 -1.340163  1.773209  0.379780 -0.503198   \n",
      "3 1970-01-01 00:00:01 -0.966272 -0.185226  1.792993 -0.863291 -0.010309   \n",
      "4 1970-01-01 00:00:02 -1.158233  0.877737  1.548718  0.403034 -0.407193   \n",
      "\n",
      "         V6        V7        V8        V9  ...       V21       V22       V23  \\\n",
      "0  0.462388  0.239599  0.098698  0.363787  ... -0.018307  0.277838 -0.110474   \n",
      "1 -0.082361 -0.078803  0.085102 -0.255425  ... -0.225775 -0.638672  0.101288   \n",
      "2  1.800499  0.791461  0.247676 -1.514654  ...  0.247998  0.771679  0.909412   \n",
      "3  1.247203  0.237609  0.377436 -1.387024  ... -0.108300  0.005274 -0.190321   \n",
      "4  0.095921  0.592941 -0.270533  0.817739  ... -0.009431  0.798278 -0.137458   \n",
      "\n",
      "        V24       V25       V26       V27       V28  Amount  Class  \n",
      "0  0.066928  0.128539 -0.189115  0.133558 -0.021053  149.62      0  \n",
      "1 -0.339846  0.167170  0.125895 -0.008983  0.014724    2.69      0  \n",
      "2 -0.689281 -0.327642 -0.139097 -0.055353 -0.059752  378.66      0  \n",
      "3 -1.175575  0.647376 -0.221929  0.062723  0.061458  123.50      0  \n",
      "4  0.141267 -0.206010  0.502292  0.219422  0.215153   69.99      0  \n",
      "\n",
      "[5 rows x 31 columns]\n"
     ]
    }
   ],
   "source": [
    "# Load the dataset\n",
    "df = pd.read_csv('./Datasets/creditcard.csv')\n",
    "df['Time'] = pd.to_datetime(df['Time'], unit='s')  # Assuming 'Time' is in seconds since epoch\n",
    "print(df.head())"
   ]
  },
  {
   "cell_type": "markdown",
   "id": "ead219c3",
   "metadata": {},
   "source": [
    "## 1. Data Preparation\n",
    "### Handling Class Imbalance and Temporal Splitting"
   ]
  },
  {
   "cell_type": "code",
   "execution_count": 3,
   "id": "e0e46344",
   "metadata": {},
   "outputs": [
    {
     "name": "stdout",
     "output_type": "stream",
     "text": [
      "Class distribution:\n",
      "Class\n",
      "0    284315\n",
      "1       492\n",
      "Name: count, dtype: int64\n"
     ]
    }
   ],
   "source": [
    "# Check class distribution\n",
    "print(\"Class distribution:\")\n",
    "print(df['Class'].value_counts())\n",
    "\n",
    "# Handle class imbalance using SMOTE\n",
    "X = df.drop(['Class', 'Time'], axis=1)\n",
    "y = df['Class']\n",
    "\n",
    "scaler = StandardScaler()\n",
    "X_scaled = scaler.fit_transform(X)\n",
    "\n",
    "smote = SMOTE(random_state=42)\n",
    "X_resampled, y_resampled = smote.fit_resample(X_scaled, y)\n",
    "\n",
    "# Temporal splitting for time-based validation\n",
    "X_train, X_test, y_train, y_test = train_test_split(X_resampled, y_resampled, test_size=0.2, shuffle=False)"
   ]
  },
  {
   "cell_type": "markdown",
   "id": "faa08947",
   "metadata": {},
   "source": [
    "## 2. Feature Engineering and Selection"
   ]
  },
  {
   "cell_type": "code",
   "execution_count": 4,
   "id": "c1774c3b",
   "metadata": {},
   "outputs": [
    {
     "name": "stdout",
     "output_type": "stream",
     "text": [
      "Feature Importances (Random Forest):\n",
      "[0.00557093 0.04684572 0.00882326 0.00594302 0.14088451 0.00566561\n",
      " 0.24330383 0.08351342 0.08192156 0.01129714 0.0090376  0.03274946\n",
      " 0.01663589 0.17708479 0.02397017 0.07875894 0.00348874 0.01095785\n",
      " 0.00280231 0.01074526]\n"
     ]
    }
   ],
   "source": [
    "from sklearn.random_projection import SparseRandomProjection\n",
    "from sklearn.ensemble import RandomForestClassifier\n",
    "import numpy as np\n",
    "\n",
    "# Optimize Sparse Random Projection\n",
    "random_projection = SparseRandomProjection(n_components=20, random_state=42)  # Reduce n_components\n",
    "X_random_projected = random_projection.fit_transform(X_train)\n",
    "\n",
    "# Optimize Random Forest Training\n",
    "rf = RandomForestClassifier(n_estimators=50, max_depth=10, random_state=42, n_jobs=-1)  # Reduce estimators and set parallelism\n",
    "rf.fit(X_random_projected, y_train)\n",
    "feature_importances = rf.feature_importances_\n",
    "\n",
    "# Results\n",
    "print(f\"Feature Importances (Random Forest):\")\n",
    "print(feature_importances)"
   ]
  },
  {
   "cell_type": "markdown",
   "id": "36bc294a",
   "metadata": {},
   "source": [
    "## 3. Build Ensemble Detection System"
   ]
  },
  {
   "cell_type": "markdown",
   "id": "9dcb93b8",
   "metadata": {},
   "source": [
    "## 4. Evaluation"
   ]
  },
  {
   "cell_type": "code",
   "execution_count": 7,
   "id": "faa725f3",
   "metadata": {},
   "outputs": [
    {
     "name": "stdout",
     "output_type": "stream",
     "text": [
      "Model: RandomForest\n",
      "  ROC AUC: 1.0000\n",
      "  F1 Score: 0.9286\n",
      "  Confusion Matrix:\n",
      "[[1985    2]\n",
      " [   0   13]]\n",
      "\n",
      "\n",
      "Model: GradientBoosting\n",
      "  ROC AUC: 0.9992\n",
      "  F1 Score: 0.8966\n",
      "  Confusion Matrix:\n",
      "[[1984    3]\n",
      " [   0   13]]\n",
      "\n",
      "\n",
      "Model: XGBoost\n",
      "  ROC AUC: 0.9999\n",
      "  F1 Score: 0.8889\n",
      "  Confusion Matrix:\n",
      "[[1985    2]\n",
      " [   1   12]]\n",
      "\n",
      "\n"
     ]
    }
   ],
   "source": [
    "from sklearn.ensemble import RandomForestClassifier, GradientBoostingClassifier\n",
    "from xgboost import XGBClassifier\n",
    "from sklearn.metrics import precision_recall_curve, roc_auc_score, f1_score, confusion_matrix\n",
    "from sklearn.model_selection import train_test_split\n",
    "\n",
    "# Reduce dataset size for testing\n",
    "X_train, X_test, y_train, y_test = train_test_split(\n",
    "    X_resampled[:10000], y_resampled[:10000], test_size=0.2, shuffle=False\n",
    ")\n",
    "\n",
    "# Build ensemble models with reduced complexity\n",
    "models = {\n",
    "    'RandomForest': RandomForestClassifier(n_estimators=50, max_depth=10, n_jobs=-1, random_state=42),\n",
    "    'GradientBoosting': GradientBoostingClassifier(n_estimators=50, max_depth=3, random_state=42),\n",
    "    'XGBoost': XGBClassifier(n_estimators=50, max_depth=3, random_state=42, use_label_encoder=False, eval_metric='logloss')  # No GPU\n",
    "}\n",
    "\n",
    "# Evaluate models\n",
    "results = {}\n",
    "for name, model in models.items():\n",
    "    model.fit(X_train, y_train)\n",
    "    y_pred = model.predict(X_test)\n",
    "    y_prob = model.predict_proba(X_test)[:, 1]\n",
    "\n",
    "    auc_score = roc_auc_score(y_test, y_prob)\n",
    "    f1 = f1_score(y_test, y_pred)\n",
    "    cm = confusion_matrix(y_test, y_pred)\n",
    "\n",
    "    results[name] = {\n",
    "        'ROC AUC': auc_score,\n",
    "        'F1 Score': f1,\n",
    "        'Confusion Matrix': cm\n",
    "    }\n",
    "\n",
    "# Display evaluation metrics\n",
    "for model_name, metrics in results.items():\n",
    "    print(f\"Model: {model_name}\")\n",
    "    print(f\"  ROC AUC: {metrics['ROC AUC']:.4f}\")\n",
    "    print(f\"  F1 Score: {metrics['F1 Score']:.4f}\")\n",
    "    print(\"  Confusion Matrix:\")\n",
    "    print(metrics['Confusion Matrix'])\n",
    "    print(\"\\n\")"
   ]
  },
  {
   "cell_type": "markdown",
   "id": "dc815e52",
   "metadata": {},
   "source": [
    "## 5. Structural Risk Minimization"
   ]
  },
  {
   "cell_type": "code",
   "execution_count": 8,
   "id": "4ab6b515",
   "metadata": {},
   "outputs": [
    {
     "name": "stdout",
     "output_type": "stream",
     "text": [
      "Best parameters for Random Forest: {'max_depth': 5, 'n_estimators': 100}\n",
      "Best F1 Score: 0.8888888888888888\n"
     ]
    }
   ],
   "source": [
    "# Use hyperparameter tuning to balance model complexity and performance\n",
    "from sklearn.model_selection import GridSearchCV\n",
    "\n",
    "param_grid = {\n",
    "    'max_depth': [3, 5, 10],\n",
    "    'n_estimators': [50, 100, 200]\n",
    "}\n",
    "\n",
    "grid_search = GridSearchCV(RandomForestClassifier(random_state=42), param_grid, scoring='f1', cv=3)\n",
    "grid_search.fit(X_train, y_train)\n",
    "print(\"Best parameters for Random Forest:\", grid_search.best_params_)\n",
    "print(\"Best F1 Score:\", grid_search.best_score_)\n"
   ]
  },
  {
   "cell_type": "markdown",
   "id": "3ce72420",
   "metadata": {},
   "source": [
    "## 6. Monitoring System for Concept Drift"
   ]
  },
  {
   "cell_type": "code",
   "execution_count": 12,
   "id": "ba434154",
   "metadata": {},
   "outputs": [
    {
     "name": "stdout",
     "output_type": "stream",
     "text": [
      "No concept drift detected.\n"
     ]
    }
   ],
   "source": [
    "pipeline = Pipeline([\n",
    "    ('scaler', StandardScaler()),\n",
    "    ('model', RandomForestClassifier(random_state=42))\n",
    "])\n",
    "\n",
    "# Train the pipeline model\n",
    "pipeline.fit(X_train, y_train)\n",
    "\n",
    "# Define monitor_drift function\n",
    "def monitor_drift(new_data, pipeline, threshold=0.1):\n",
    "    \"\"\"\n",
    "    Detect concept drift based on changes in prediction probabilities.\n",
    "    \n",
    "    Parameters:\n",
    "    - new_data (DataFrame): The new data to check for drift\n",
    "    - pipeline (Pipeline): The trained pipeline containing preprocessing and model\n",
    "    - threshold (float): The threshold for standard deviation of predictions to detect drift\n",
    "    \n",
    "    Returns:\n",
    "    - bool: True if drift is detected, False otherwise\n",
    "    \"\"\"\n",
    "    predictions = pipeline.predict_proba(new_data)[:, 1]  # Get probabilities for the positive class\n",
    "    drift_detected = np.std(predictions) > threshold  # Check standard deviation against the threshold\n",
    "    return drift_detected\n",
    "\n",
    "# Example usage of monitor_drift\n",
    "drift = monitor_drift(X_test, pipeline, threshold=0.1)\n",
    "print(\"Concept drift detected:\" if drift else \"No concept drift detected.\")"
   ]
  },
  {
   "cell_type": "markdown",
   "id": "af0c79af",
   "metadata": {},
   "source": [
    "## Conclusion\n",
    "This notebook demonstrates the implementation of a financial fraud detection system with a focus on handling class imbalance, temporal validation, feature engineering, ensemble modeling, and monitoring for concept drift. The system optimizes for business-critical metrics such as the precision-recall tradeoff, minimizing false positives while maintaining high recall."
   ]
  }
 ],
 "metadata": {
  "kernelspec": {
   "display_name": "Python 3 (ipykernel)",
   "language": "python",
   "name": "python3"
  },
  "language_info": {
   "codemirror_mode": {
    "name": "ipython",
    "version": 3
   },
   "file_extension": ".py",
   "mimetype": "text/x-python",
   "name": "python",
   "nbconvert_exporter": "python",
   "pygments_lexer": "ipython3",
   "version": "3.12.7"
  }
 },
 "nbformat": 4,
 "nbformat_minor": 5
}
