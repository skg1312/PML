{
 "cells": [
  {
   "cell_type": "code",
   "execution_count": 5,
   "id": "868dc794-d4e9-445b-8710-df184aa70102",
   "metadata": {},
   "outputs": [
    {
     "name": "stderr",
     "output_type": "stream",
     "text": [
      "'git' is not recognized as an internal or external command,\n",
      "operable program or batch file.\n"
     ]
    }
   ],
   "source": [
    "!git --version"
   ]
  },
  {
   "cell_type": "code",
   "execution_count": 1,
   "id": "207cbae5-26dc-4e5d-9d74-8221ce4e355a",
   "metadata": {},
   "outputs": [
    {
     "name": "stderr",
     "output_type": "stream",
     "text": [
      "'git' is not recognized as an internal or external command,\n",
      "operable program or batch file.\n",
      "'git' is not recognized as an internal or external command,\n",
      "operable program or batch file.\n",
      "'git' is not recognized as an internal or external command,\n",
      "operable program or batch file.\n",
      "'git' is not recognized as an internal or external command,\n",
      "operable program or batch file.\n",
      "'git' is not recognized as an internal or external command,\n",
      "operable program or batch file.\n",
      "'git' is not recognized as an internal or external command,\n",
      "operable program or batch file.\n",
      "'git' is not recognized as an internal or external command,\n",
      "operable program or batch file.\n",
      "'git' is not recognized as an internal or external command,\n",
      "operable program or batch file.\n"
     ]
    }
   ],
   "source": [
    "!git config --global user.name \"skg1312\"\n",
    "!git config --global user.email \"skg.13.edu@gmail.com\"\n",
    "\n",
    "!git init\n",
    "\n",
    "!git add .\n",
    "\n",
    "!git commit -m \"Add Jupyter Notebook files\"\n",
    "\n",
    "!git remote add origin https://github.com/skg1312/PML.git\n",
    "\n",
    "!git branch -M main\n",
    "!git push -u origin main"
   ]
  }
 ],
 "metadata": {
  "kernelspec": {
   "display_name": "Python 3 (ipykernel)",
   "language": "python",
   "name": "python3"
  },
  "language_info": {
   "codemirror_mode": {
    "name": "ipython",
    "version": 3
   },
   "file_extension": ".py",
   "mimetype": "text/x-python",
   "name": "python",
   "nbconvert_exporter": "python",
   "pygments_lexer": "ipython3",
   "version": "3.12.7"
  }
 },
 "nbformat": 4,
 "nbformat_minor": 5
}
