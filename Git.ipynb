{
 "cells": [
  {
   "cell_type": "code",
   "execution_count": 1,
   "id": "868dc794-d4e9-445b-8710-df184aa70102",
   "metadata": {},
   "outputs": [
    {
     "name": "stdout",
     "output_type": "stream",
     "text": [
      "git version 2.45.2.windows.1\n"
     ]
    }
   ],
   "source": [
    "!git --version"
   ]
  },
  {
   "cell_type": "code",
   "execution_count": 7,
   "id": "207cbae5-26dc-4e5d-9d74-8221ce4e355a",
   "metadata": {},
   "outputs": [
    {
     "name": "stderr",
     "output_type": "stream",
     "text": [
      "Cloning into 'PML'...\n"
     ]
    }
   ],
   "source": [
    "!git clone https://github.com/skg1312/PML.git\n"
   ]
  },
  {
   "cell_type": "code",
   "execution_count": 10,
   "id": "e85bf42f-c832-4256-830b-f9d579cc2089",
   "metadata": {},
   "outputs": [],
   "source": [
    "!git add ."
   ]
  },
  {
   "cell_type": "code",
   "execution_count": 11,
   "id": "17a83e66-09a5-465d-a198-a9b291e33849",
   "metadata": {},
   "outputs": [
    {
     "name": "stdout",
     "output_type": "stream",
     "text": [
      "[main f08d169] Add Jupyter Notebook files\n",
      " 5 files changed, 1 insertion(+), 2389 deletions(-)\n",
      " delete mode 100644 .ipynb_checkpoints/Git-checkpoint.ipynb\n",
      " delete mode 100644 Assignments/25020_Guduru Sai Kumar_PML-3.ipynb\n",
      " delete mode 100644 Assignments/25020_Guduru Sai Kumar_PML.ipynb\n",
      " delete mode 100644 Git.ipynb\n",
      " create mode 160000 PML\n"
     ]
    }
   ],
   "source": [
    "!git commit -m \"Add Jupyter Notebook files\""
   ]
  },
  {
   "cell_type": "code",
   "execution_count": 14,
   "id": "757b76bb-43c9-4c0d-b520-e248bb391ab0",
   "metadata": {},
   "outputs": [
    {
     "name": "stdout",
     "output_type": "stream",
     "text": [
      "branch 'main' set up to track 'origin/main'.\n"
     ]
    },
    {
     "name": "stderr",
     "output_type": "stream",
     "text": [
      "To https://github.com/skg1312/PML.git\n",
      " + 59a6c28...f08d169 main -> main (forced update)\n"
     ]
    }
   ],
   "source": [
    "!git branch --set-upstream-to=origin/main main\n",
    "!git push origin main --force"
   ]
  },
  {
   "cell_type": "code",
   "execution_count": null,
   "id": "75057297-6575-47c2-aa94-437d1ebbe251",
   "metadata": {},
   "outputs": [],
   "source": []
  }
 ],
 "metadata": {
  "kernelspec": {
   "display_name": "Python 3 (ipykernel)",
   "language": "python",
   "name": "python3"
  },
  "language_info": {
   "codemirror_mode": {
    "name": "ipython",
    "version": 3
   },
   "file_extension": ".py",
   "mimetype": "text/x-python",
   "name": "python",
   "nbconvert_exporter": "python",
   "pygments_lexer": "ipython3",
   "version": "3.12.7"
  }
 },
 "nbformat": 4,
 "nbformat_minor": 5
}
