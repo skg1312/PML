{
 "cells": [
  {
   "cell_type": "markdown",
   "metadata": {
    "id": "PocsflDnHa29"
   },
   "source": [
    "<table align=\"left\" width=100%>\n",
    "    <tr>\n",
    "        <td width=\"20%\">\n",
    "            <img src=\"faculty.png\">\n",
    "        </td>\n",
    "        <td>\n",
    "            <div align=\"center\">\n",
    "                <font color=\"#21618C\" size=8px>\n",
    "                  <b> Praveen Faculty Notebook <br> (Day 1) </b>\n",
    "                </font>\n",
    "            </div>\n",
    "        </td>\n",
    "    </tr>\n",
    "</table>"
   ]
  },
  {
   "cell_type": "markdown",
   "metadata": {
    "id": "GmH8C1T3Ha29"
   },
   "source": [
    "## Table of Content\n",
    "\n",
    "1. **[What is Exploratory Data Analysis?](#eda)**\n",
    "2. **[Working with a Dataset](#data)**\n",
    "    - 2.1 - **[Read the Data](#read_data)**\n",
    "    - 2.2 - **[Variable type](#variable)**\n",
    "3. **[Measures of Central Tendency](#mct)**\n",
    "    - 3.1 - **[Mean](#mean)**\n",
    "    - 3.2 - **[Trimmed Mean](#tmean)**\n",
    "    - 3.3 - **[Median](#median)**\n",
    "    - 3.4 - **[Mode](#mode)**\n",
    "    - 3.5 - **[Value Counts](#vcounts)**\n",
    "    - 3.6 - **[Partition Values](#pvalues)**\n",
    "4. **[Measures of Dispersion](#dispersion)**    \n",
    "    - 4.1 - **[Range](#range)**\n",
    "    - 4.2 - **[Variance](#variance)**\n",
    "    - 4.3 - **[Standard Deviation](#std)**\n",
    "    - 4.4 - **[Coefficient of Variation](#cv)**\n",
    "    - 4.5 - **[Interquartile Range](#iqr)**\n",
    "5. **[Distribution of the data](#distribution)** \n",
    "6. **[Shape of the data](#shape)** \n",
    "    - 6.1 - **[Skewness](#skewness)**\n",
    "    - 6.2 - **[kurtosis](#kurtosis)**\n",
    "7. **[Correlation and Covariance](#corr_cov)**  \n",
    "    - 7.1 - **[Correlation](#corr)**\n",
    "    - 7.2 - **[Covariance](#cov)**\n",
    "    \n"
   ]
  },
  {
   "cell_type": "markdown",
   "metadata": {
    "id": "QLDfSC6sHa29"
   },
   "source": [
    "<a id=\"eda\"></a>\n",
    "## 1. What is Exploratory Data Analysis?"
   ]
  },
  {
   "cell_type": "markdown",
   "metadata": {
    "id": "KzdVPpuiHa29"
   },
   "source": [
    "Exploratory data analysis is an important step in any research analysis. It searches for patterns and relationships in the data. In other words, we may explain EDA as a process to summarise the crucial characteristics of the data to get better insights.<br>\n",
    "We explore each dataset using multiple techniques and compare the results. We find answers to questions such as:<br>\n",
    "&nbsp;&nbsp;&nbsp;      1) What is the shape of the data? <br>\n",
    "&nbsp;&nbsp;&nbsp;      2) Are there redundant variables? <br>\n",
    "&nbsp;&nbsp;&nbsp;      3) Are there missing or null values? <br>\n",
    "&nbsp;&nbsp;&nbsp;      4) What is the average value of a feature? <br>\n",
    "&nbsp;&nbsp;&nbsp;      5) Are there any outliers present? <br>\n",
    "&nbsp;&nbsp;&nbsp;      6) Is there any relationship between these variables?\n",
    "\n",
    "**Note:** The questions mentioned above are **not** the only questions answered in EDA. These are a few questions that one may start initially."
   ]
  },
  {
   "cell_type": "markdown",
   "metadata": {
    "id": "AuAX2siSHa29"
   },
   "source": [
    "**Data analysis is divided into the following parts:**\n",
    "<img src=\"analysis_types.png\">\n",
    "\n",
    "### 1. Descriptive Statistics:\n",
    "\n",
    "Descriptive statistics summarize a given data set. It includes measures of central tendency, measures of variation and distribution of the data.\n",
    "<br> The **measures of central tendency** include the mean, median, and mode, while **measures of variability** include the standard deviation, variance, the coefficient of variation, and so on.\n",
    "\n",
    "### 2. Inferential Statistics:\n",
    "Inferential statistics are procedures that help in making inferences about a population based on findings from a sample.<br>\n",
    "It includes **testing of hypothesis** and **parameter estimation**. It allows us to infer parameters of the population based on sample and build models on it.\n"
   ]
  },
  {
   "cell_type": "markdown",
   "metadata": {
    "id": "3WVwhoYcHa29"
   },
   "source": [
    "### What are Population and Sample?\n",
    "The population is a complete set of elements having some common characteristics selected for a research study.<br>\n",
    "A sample is a set of randomly chosen observations from a population. Samples are drawn from the population when a dataset is large since it is challenging to study the whole population. We draw a sample when the item under study is feared to exhaust. For instance,<br> \n",
    "<ul>\n",
    "    <li>the study of the durability of an electric bulb </li>\n",
    "        <li>the study of the effectiveness of new medicine</li>\n",
    "</ul> "
   ]
  },
  {
   "cell_type": "markdown",
   "metadata": {
    "id": "Nl35sLSnHa29"
   },
   "source": [
    "**In this session, we will be using the `k-circlesales` dataset. We shall conduct exploratory data analysis by answering a few of the questions mentioned above. However, our primary focus will be on descriptive statistics.**"
   ]
  },
  {
   "cell_type": "markdown",
   "metadata": {
    "id": "qiOKhNxCHa29"
   },
   "source": [
    "<a id=\"data\"></a>\n",
    "## 2. Working with a Dataset"
   ]
  },
  {
   "cell_type": "markdown",
   "metadata": {
    "id": "WVLzUU4SHa29"
   },
   "source": [
    "The data definition which comes with the data is as follows:\n",
    "\n",
    "**Item_Identifier:** Unique product ID assigned to every distinct item\n",
    "\n",
    "**Item_Weight:** Weight of the product\n",
    "\n",
    "**Item_Fat_Content:** Describes whether the product is low in fat or not\n",
    "\n",
    "**Item_Visibility:** Total display area allocated to the particular product (in %)\n",
    "\n",
    "**Item_Type:** Describes the food category to which the item belongs\n",
    "\n",
    "**Item_MRP:** Maximum Retail Price (list price) of the product\n",
    "\n",
    "**Outlet_Identifier:** Unique store ID assigned. It consists of an alphanumeric string of length 6\n",
    "\n",
    "**Outlet_Establishment_Year:** The establishment year of the store\n",
    "\n",
    "**Outlet_Size:** Size of the store in terms of ground area covered\n",
    "\n",
    "**Outlet_Location_Type:** Size of the city in which the store is located\n",
    "\n",
    "**Outlet_Type:** Is the outlet just a grocery store or a supermarket\n",
    "\n",
    "**Profit:** Profit of the item sold (in %)\n",
    "\n",
    "**Item_Outlet_Sales**: Sales of the product"
   ]
  },
  {
   "cell_type": "markdown",
   "metadata": {
    "id": "uvY3ENHVHa29"
   },
   "source": [
    "<a id=\"read_data\"> </a>\n",
    "## 2.1 Read the data\n",
    "\n",
    "We are using the `k-circlesales` dataset. Let us explore the data with some statistical metrics.\n"
   ]
  },
  {
   "cell_type": "code",
   "execution_count": 1,
   "metadata": {
    "colab": {
     "base_uri": "https://localhost:8080/",
     "height": 305
    },
    "executionInfo": {
     "elapsed": 1135,
     "status": "ok",
     "timestamp": 1613982878852,
     "user": {
      "displayName": "Sudha B G",
      "photoUrl": "https://lh3.googleusercontent.com/a-/AOh14GhlQTgtbIyY5WGHUlbWkOwvQCZHf7kALTNEVAhkbw=s64",
      "userId": "11454725486752146023"
     },
     "user_tz": -330
    },
    "id": "6E-qV6d4Ha29",
    "outputId": "f5e1f250-7dac-49ae-fd19-5af462917762"
   },
   "outputs": [
    {
     "data": {
      "text/html": [
       "<div>\n",
       "<style scoped>\n",
       "    .dataframe tbody tr th:only-of-type {\n",
       "        vertical-align: middle;\n",
       "    }\n",
       "\n",
       "    .dataframe tbody tr th {\n",
       "        vertical-align: top;\n",
       "    }\n",
       "\n",
       "    .dataframe thead th {\n",
       "        text-align: right;\n",
       "    }\n",
       "</style>\n",
       "<table border=\"1\" class=\"dataframe\">\n",
       "  <thead>\n",
       "    <tr style=\"text-align: right;\">\n",
       "      <th></th>\n",
       "      <th>Item_Identifier</th>\n",
       "      <th>Item_Weight</th>\n",
       "      <th>Item_Fat_Content</th>\n",
       "      <th>Item_Visibility</th>\n",
       "      <th>Item_Type</th>\n",
       "      <th>Item_MRP</th>\n",
       "      <th>Outlet_Identifier</th>\n",
       "      <th>Outlet_Establishment_Year</th>\n",
       "      <th>Outlet_Size</th>\n",
       "      <th>Outlet_Location_Type</th>\n",
       "      <th>Outlet_Type</th>\n",
       "      <th>Item_Outlet_Sales</th>\n",
       "      <th>Profit</th>\n",
       "    </tr>\n",
       "  </thead>\n",
       "  <tbody>\n",
       "    <tr>\n",
       "      <th>0</th>\n",
       "      <td>FDA15</td>\n",
       "      <td>9.30</td>\n",
       "      <td>Low Fat</td>\n",
       "      <td>0.016047</td>\n",
       "      <td>Dairy</td>\n",
       "      <td>249.8</td>\n",
       "      <td>OUT049</td>\n",
       "      <td>1999</td>\n",
       "      <td>Medium</td>\n",
       "      <td>Tier 2</td>\n",
       "      <td>Supermarket Type1</td>\n",
       "      <td>3735.1380</td>\n",
       "      <td>11.5</td>\n",
       "    </tr>\n",
       "    <tr>\n",
       "      <th>1</th>\n",
       "      <td>DRC01</td>\n",
       "      <td>5.92</td>\n",
       "      <td>Regular</td>\n",
       "      <td>0.019278</td>\n",
       "      <td>Soft Drinks</td>\n",
       "      <td>48.3</td>\n",
       "      <td>OUT018</td>\n",
       "      <td>2009</td>\n",
       "      <td>Medium</td>\n",
       "      <td>Tier 2</td>\n",
       "      <td>Supermarket Type2</td>\n",
       "      <td>443.4228</td>\n",
       "      <td>14.3</td>\n",
       "    </tr>\n",
       "    <tr>\n",
       "      <th>2</th>\n",
       "      <td>FDN15</td>\n",
       "      <td>17.50</td>\n",
       "      <td>Low Fat</td>\n",
       "      <td>0.016760</td>\n",
       "      <td>Meat</td>\n",
       "      <td>141.6</td>\n",
       "      <td>OUT049</td>\n",
       "      <td>1999</td>\n",
       "      <td>Medium</td>\n",
       "      <td>Tier 2</td>\n",
       "      <td>Supermarket Type1</td>\n",
       "      <td>2097.2700</td>\n",
       "      <td>14.5</td>\n",
       "    </tr>\n",
       "    <tr>\n",
       "      <th>3</th>\n",
       "      <td>FDX07</td>\n",
       "      <td>19.20</td>\n",
       "      <td>Regular</td>\n",
       "      <td>0.000000</td>\n",
       "      <td>Fruits and Vegetables</td>\n",
       "      <td>182.1</td>\n",
       "      <td>OUT010</td>\n",
       "      <td>1998</td>\n",
       "      <td>NaN</td>\n",
       "      <td>NaN</td>\n",
       "      <td>Grocery Store</td>\n",
       "      <td>732.3800</td>\n",
       "      <td>13.6</td>\n",
       "    </tr>\n",
       "    <tr>\n",
       "      <th>4</th>\n",
       "      <td>NCD19</td>\n",
       "      <td>8.93</td>\n",
       "      <td>Low Fat</td>\n",
       "      <td>0.000000</td>\n",
       "      <td>Household</td>\n",
       "      <td>53.9</td>\n",
       "      <td>OUT013</td>\n",
       "      <td>1987</td>\n",
       "      <td>High</td>\n",
       "      <td>Tier 3</td>\n",
       "      <td>Supermarket Type1</td>\n",
       "      <td>994.7052</td>\n",
       "      <td>14.1</td>\n",
       "    </tr>\n",
       "  </tbody>\n",
       "</table>\n",
       "</div>"
      ],
      "text/plain": [
       "  Item_Identifier  Item_Weight Item_Fat_Content  Item_Visibility  \\\n",
       "0           FDA15         9.30          Low Fat         0.016047   \n",
       "1           DRC01         5.92          Regular         0.019278   \n",
       "2           FDN15        17.50          Low Fat         0.016760   \n",
       "3           FDX07        19.20          Regular         0.000000   \n",
       "4           NCD19         8.93          Low Fat         0.000000   \n",
       "\n",
       "               Item_Type  Item_MRP Outlet_Identifier  \\\n",
       "0                  Dairy     249.8            OUT049   \n",
       "1            Soft Drinks      48.3            OUT018   \n",
       "2                   Meat     141.6            OUT049   \n",
       "3  Fruits and Vegetables     182.1            OUT010   \n",
       "4              Household      53.9            OUT013   \n",
       "\n",
       "   Outlet_Establishment_Year Outlet_Size Outlet_Location_Type  \\\n",
       "0                       1999      Medium               Tier 2   \n",
       "1                       2009      Medium               Tier 2   \n",
       "2                       1999      Medium               Tier 2   \n",
       "3                       1998         NaN                  NaN   \n",
       "4                       1987        High               Tier 3   \n",
       "\n",
       "         Outlet_Type  Item_Outlet_Sales  Profit  \n",
       "0  Supermarket Type1          3735.1380    11.5  \n",
       "1  Supermarket Type2           443.4228    14.3  \n",
       "2  Supermarket Type1          2097.2700    14.5  \n",
       "3      Grocery Store           732.3800    13.6  \n",
       "4  Supermarket Type1           994.7052    14.1  "
      ]
     },
     "execution_count": 1,
     "metadata": {},
     "output_type": "execute_result"
    }
   ],
   "source": [
    "# import pandas\n",
    "import pandas as pd\n",
    "\n",
    "# read the data\n",
    "df_sales = pd.read_csv('k_circle_sales.csv')\n",
    "# check first five rows of data\n",
    "df_sales.head()"
   ]
  },
  {
   "cell_type": "code",
   "execution_count": 2,
   "metadata": {
    "id": "2rTCMg5A4ijW"
   },
   "outputs": [
    {
     "data": {
      "text/html": [
       "<div>\n",
       "<style scoped>\n",
       "    .dataframe tbody tr th:only-of-type {\n",
       "        vertical-align: middle;\n",
       "    }\n",
       "\n",
       "    .dataframe tbody tr th {\n",
       "        vertical-align: top;\n",
       "    }\n",
       "\n",
       "    .dataframe thead th {\n",
       "        text-align: right;\n",
       "    }\n",
       "</style>\n",
       "<table border=\"1\" class=\"dataframe\">\n",
       "  <thead>\n",
       "    <tr style=\"text-align: right;\">\n",
       "      <th></th>\n",
       "      <th>Item_Weight</th>\n",
       "      <th>Item_Visibility</th>\n",
       "      <th>Item_MRP</th>\n",
       "      <th>Outlet_Establishment_Year</th>\n",
       "      <th>Item_Outlet_Sales</th>\n",
       "      <th>Profit</th>\n",
       "    </tr>\n",
       "  </thead>\n",
       "  <tbody>\n",
       "    <tr>\n",
       "      <th>count</th>\n",
       "      <td>7774.000000</td>\n",
       "      <td>8523.000000</td>\n",
       "      <td>8523.000000</td>\n",
       "      <td>8523.000000</td>\n",
       "      <td>8523.000000</td>\n",
       "      <td>8523.000000</td>\n",
       "    </tr>\n",
       "    <tr>\n",
       "      <th>mean</th>\n",
       "      <td>11.676740</td>\n",
       "      <td>0.066132</td>\n",
       "      <td>140.998838</td>\n",
       "      <td>1997.831867</td>\n",
       "      <td>2181.288914</td>\n",
       "      <td>13.414514</td>\n",
       "    </tr>\n",
       "    <tr>\n",
       "      <th>std</th>\n",
       "      <td>5.776851</td>\n",
       "      <td>0.051598</td>\n",
       "      <td>62.258099</td>\n",
       "      <td>8.371760</td>\n",
       "      <td>1706.499616</td>\n",
       "      <td>1.701840</td>\n",
       "    </tr>\n",
       "    <tr>\n",
       "      <th>min</th>\n",
       "      <td>0.000000</td>\n",
       "      <td>0.000000</td>\n",
       "      <td>31.300000</td>\n",
       "      <td>1985.000000</td>\n",
       "      <td>33.290000</td>\n",
       "      <td>0.100000</td>\n",
       "    </tr>\n",
       "    <tr>\n",
       "      <th>25%</th>\n",
       "      <td>7.720000</td>\n",
       "      <td>0.026989</td>\n",
       "      <td>93.800000</td>\n",
       "      <td>1987.000000</td>\n",
       "      <td>834.247400</td>\n",
       "      <td>13.150000</td>\n",
       "    </tr>\n",
       "    <tr>\n",
       "      <th>50%</th>\n",
       "      <td>11.800000</td>\n",
       "      <td>0.053931</td>\n",
       "      <td>142.700000</td>\n",
       "      <td>1999.000000</td>\n",
       "      <td>1794.331000</td>\n",
       "      <td>13.900000</td>\n",
       "    </tr>\n",
       "    <tr>\n",
       "      <th>75%</th>\n",
       "      <td>16.500000</td>\n",
       "      <td>0.094585</td>\n",
       "      <td>185.650000</td>\n",
       "      <td>2004.000000</td>\n",
       "      <td>3101.296400</td>\n",
       "      <td>14.300000</td>\n",
       "    </tr>\n",
       "    <tr>\n",
       "      <th>max</th>\n",
       "      <td>21.350000</td>\n",
       "      <td>0.328391</td>\n",
       "      <td>266.900000</td>\n",
       "      <td>2009.000000</td>\n",
       "      <td>13086.964800</td>\n",
       "      <td>24.000000</td>\n",
       "    </tr>\n",
       "  </tbody>\n",
       "</table>\n",
       "</div>"
      ],
      "text/plain": [
       "       Item_Weight  Item_Visibility     Item_MRP  Outlet_Establishment_Year  \\\n",
       "count  7774.000000      8523.000000  8523.000000                8523.000000   \n",
       "mean     11.676740         0.066132   140.998838                1997.831867   \n",
       "std       5.776851         0.051598    62.258099                   8.371760   \n",
       "min       0.000000         0.000000    31.300000                1985.000000   \n",
       "25%       7.720000         0.026989    93.800000                1987.000000   \n",
       "50%      11.800000         0.053931   142.700000                1999.000000   \n",
       "75%      16.500000         0.094585   185.650000                2004.000000   \n",
       "max      21.350000         0.328391   266.900000                2009.000000   \n",
       "\n",
       "       Item_Outlet_Sales       Profit  \n",
       "count        8523.000000  8523.000000  \n",
       "mean         2181.288914    13.414514  \n",
       "std          1706.499616     1.701840  \n",
       "min            33.290000     0.100000  \n",
       "25%           834.247400    13.150000  \n",
       "50%          1794.331000    13.900000  \n",
       "75%          3101.296400    14.300000  \n",
       "max         13086.964800    24.000000  "
      ]
     },
     "execution_count": 2,
     "metadata": {},
     "output_type": "execute_result"
    }
   ],
   "source": [
    "df_sales.describe()"
   ]
  },
  {
   "cell_type": "code",
   "execution_count": 3,
   "metadata": {},
   "outputs": [
    {
     "name": "stdout",
     "output_type": "stream",
     "text": [
      "<class 'pandas.core.frame.DataFrame'>\n",
      "RangeIndex: 8523 entries, 0 to 8522\n",
      "Data columns (total 13 columns):\n",
      " #   Column                     Non-Null Count  Dtype  \n",
      "---  ------                     --------------  -----  \n",
      " 0   Item_Identifier            8523 non-null   object \n",
      " 1   Item_Weight                7774 non-null   float64\n",
      " 2   Item_Fat_Content           8523 non-null   object \n",
      " 3   Item_Visibility            8523 non-null   float64\n",
      " 4   Item_Type                  8523 non-null   object \n",
      " 5   Item_MRP                   8523 non-null   float64\n",
      " 6   Outlet_Identifier          8523 non-null   object \n",
      " 7   Outlet_Establishment_Year  8523 non-null   int64  \n",
      " 8   Outlet_Size                6113 non-null   object \n",
      " 9   Outlet_Location_Type       6473 non-null   object \n",
      " 10  Outlet_Type                8523 non-null   object \n",
      " 11  Item_Outlet_Sales          8523 non-null   float64\n",
      " 12  Profit                     8523 non-null   float64\n",
      "dtypes: float64(5), int64(1), object(7)\n",
      "memory usage: 865.7+ KB\n"
     ]
    }
   ],
   "source": [
    "df_sales.info()"
   ]
  },
  {
   "cell_type": "code",
   "execution_count": 5,
   "metadata": {},
   "outputs": [
    {
     "data": {
      "text/plain": [
       "Index(['Item_Identifier', 'Item_Weight', 'Item_Fat_Content', 'Item_Visibility',\n",
       "       'Item_Type', 'Item_MRP', 'Outlet_Identifier',\n",
       "       'Outlet_Establishment_Year', 'Outlet_Size', 'Outlet_Location_Type',\n",
       "       'Outlet_Type', 'Item_Outlet_Sales', 'Profit'],\n",
       "      dtype='object')"
      ]
     },
     "execution_count": 5,
     "metadata": {},
     "output_type": "execute_result"
    }
   ],
   "source": [
    "df_sales.columns"
   ]
  },
  {
   "cell_type": "code",
   "execution_count": null,
   "metadata": {},
   "outputs": [],
   "source": []
  },
  {
   "cell_type": "markdown",
   "metadata": {
    "id": "wqRRxNfvHa2_"
   },
   "source": [
    "Let us now see the number of variables and observations  in the data."
   ]
  },
  {
   "cell_type": "code",
   "execution_count": 4,
   "metadata": {
    "id": "S4vZCHStHa2_",
    "outputId": "adcfdb65-0443-46ef-fd7e-f9491bbf991c"
   },
   "outputs": [
    {
     "data": {
      "text/plain": [
       "(8523, 13)"
      ]
     },
     "execution_count": 4,
     "metadata": {},
     "output_type": "execute_result"
    }
   ],
   "source": [
    "# use 'shape' attribute of the DataFrame to check the dimension of data\n",
    "df_sales.shape"
   ]
  },
  {
   "cell_type": "code",
   "execution_count": null,
   "metadata": {},
   "outputs": [],
   "source": []
  },
  {
   "cell_type": "code",
   "execution_count": null,
   "metadata": {
    "colab": {
     "base_uri": "https://localhost:8080/"
    },
    "executionInfo": {
     "elapsed": 983,
     "status": "ok",
     "timestamp": 1613983022215,
     "user": {
      "displayName": "Sudha B G",
      "photoUrl": "https://lh3.googleusercontent.com/a-/AOh14GhlQTgtbIyY5WGHUlbWkOwvQCZHf7kALTNEVAhkbw=s64",
      "userId": "11454725486752146023"
     },
     "user_tz": -330
    },
    "id": "Suze4Rph4jWL",
    "outputId": "eea86c50-dfbb-4e0d-d00b-d3c3f26dc7de"
   },
   "outputs": [],
   "source": [
    "df_sales.info()"
   ]
  },
  {
   "cell_type": "code",
   "execution_count": 6,
   "metadata": {},
   "outputs": [
    {
     "data": {
      "text/plain": [
       "array(['Low Fat', 'Regular', 'low fat', 'LF', 'reg'], dtype=object)"
      ]
     },
     "execution_count": 6,
     "metadata": {},
     "output_type": "execute_result"
    }
   ],
   "source": [
    "df_sales['Item_Fat_Content'].unique()"
   ]
  },
  {
   "cell_type": "code",
   "execution_count": null,
   "metadata": {},
   "outputs": [],
   "source": []
  },
  {
   "cell_type": "markdown",
   "metadata": {
    "id": "BlFxEa9fHa2_"
   },
   "source": [
    "<b>Interpretation:</b> The data has 8523 rows and 13 columns that is there are 8523 observations and 13 variables   "
   ]
  },
  {
   "cell_type": "markdown",
   "metadata": {
    "id": "5sMaKhLZHa2_"
   },
   "source": [
    "<a id=\"variable\"> </a>\n",
    "## 2.2 Variable type\n",
    "\n",
    "Identifying the type of variable we are working with is always the first step of the data analysis process. We classify the variables as follows:\n",
    "<ol>\n",
    "    <li><b>Numerical (quantitative)</b></li>\n",
    "    <ul><li>Continuous - A random variable which takes continuous values, i.e. values within a range, usually measured, such as height (within the range of human heights)</li>\n",
    "        <li>Discrete -  A random variable which takes discrete values, i.e. values from the set of whole numbers only. It can take countably finite values</li></ul><br>\n",
    "    <li><b>Categorical (qualitative)</b></li>\n",
    "    <ul>\n",
    "        <li> Ordinal - Values that have inherent ordering levels, such as (high, medium, low)</li>\n",
    "        <li>Nominal - Nominal data has no order. The values represent discrete units and are used to label variables (male or female)</li></ul>\n",
    "</ol>  \n",
    "Data has categorical and/or numerical variables. The main data types stored in pandas dataframes are object, float, int, boolean and datetime64. It is important to check whether the data types are correctly identified by python.<br>"
   ]
  },
  {
   "cell_type": "code",
   "execution_count": 7,
   "metadata": {
    "id": "K1qGDB1YHa2_",
    "outputId": "3e7151c0-346e-4b51-aab9-7a3876fa7271"
   },
   "outputs": [
    {
     "data": {
      "text/plain": [
       "Item_Identifier               object\n",
       "Item_Weight                  float64\n",
       "Item_Fat_Content              object\n",
       "Item_Visibility              float64\n",
       "Item_Type                     object\n",
       "Item_MRP                     float64\n",
       "Outlet_Identifier             object\n",
       "Outlet_Establishment_Year      int64\n",
       "Outlet_Size                   object\n",
       "Outlet_Location_Type          object\n",
       "Outlet_Type                   object\n",
       "Item_Outlet_Sales            float64\n",
       "Profit                       float64\n",
       "dtype: object"
      ]
     },
     "execution_count": 7,
     "metadata": {},
     "output_type": "execute_result"
    }
   ],
   "source": [
    "# check the data type\n",
    "df_sales.dtypes"
   ]
  },
  {
   "cell_type": "code",
   "execution_count": null,
   "metadata": {},
   "outputs": [],
   "source": []
  },
  {
   "cell_type": "markdown",
   "metadata": {
    "id": "1aLqeXjmHa2_"
   },
   "source": [
    "<b>Interpretation:</b> Refer to the data definition and check whether the data has been correctly identified.\n",
    "Now based on the result, classify the various data columns into numerical/categorical attributes:<br>   <ul> \n",
    "                            <li> Numerical Attributes: Item_Weight,  Item_Visibility,  Item_MRP,  Outlet_Establishment_Year,  Item_Outlet_Sales and  Profit </li>\n",
    "                            <li>Categorical Attributes: Item_Identifier, Item_Fat_Content, Item_Type, Outlet_Identifier, Outlet_Size, Outlet_Location_Type and Outlet_Type  </li>\n",
    "    </ul>"
   ]
  },
  {
   "cell_type": "markdown",
   "metadata": {
    "id": "GD59Ko7kHa2_"
   },
   "source": [
    "<a id=\"central_tendency\"> </a>\n",
    "## 3. Measures of Central Tendency\n",
    "\n",
    "Let us now understand the measures of central tendency."
   ]
  },
  {
   "cell_type": "markdown",
   "metadata": {
    "id": "LC_lvE1UHa2_"
   },
   "source": [
    "<a id=\"mean\"></a>\n",
    "### 3.1 Mean\n",
    "<ul>\n",
    "  <li>Mean is the average of the data</li>\n",
    "  <li>The important property of the mean is that it includes all values in the data. Thus it can be affected by the outliers. Presence of outliers can give unreliable results    \n",
    "</ul>\n",
    "<b>The questions we can answer now are:<br>\n",
    "&nbsp;&nbsp; 1) What is the average profit earned for an item? <br>\n",
    "&nbsp;&nbsp; 2) What is the average weight for the dairy items sold?\n",
    "</b><br>\n",
    "\n",
    "The answer to the questions above is to find the mean. Let us use the function `.mean()`"
   ]
  },
  {
   "cell_type": "code",
   "execution_count": 8,
   "metadata": {
    "id": "yOgTYG3_Ha2_",
    "outputId": "80a8c779-ad3d-4dfb-a3f2-e60138dab6bb"
   },
   "outputs": [
    {
     "name": "stdout",
     "output_type": "stream",
     "text": [
      "The mean values for the numeric variables in the data are:\n",
      " Item_Weight                    11.676740\n",
      "Item_Visibility                 0.066132\n",
      "Item_MRP                      140.998838\n",
      "Outlet_Establishment_Year    1997.831867\n",
      "Item_Outlet_Sales            2181.288914\n",
      "Profit                         13.414514\n",
      "dtype: float64\n"
     ]
    },
    {
     "name": "stderr",
     "output_type": "stream",
     "text": [
      "C:\\Users\\locha\\AppData\\Local\\Temp/ipykernel_8564/1419692189.py:2: FutureWarning: Dropping of nuisance columns in DataFrame reductions (with 'numeric_only=None') is deprecated; in a future version this will raise TypeError.  Select only valid columns before calling the reduction.\n",
      "  print(\"The mean values for the numeric variables in the data are:\\n\", df_sales.mean())\n"
     ]
    }
   ],
   "source": [
    "# calculate the average values\n",
    "print(\"The mean values for the numeric variables in the data are:\\n\", df_sales.mean())"
   ]
  },
  {
   "cell_type": "code",
   "execution_count": null,
   "metadata": {},
   "outputs": [],
   "source": []
  },
  {
   "cell_type": "markdown",
   "metadata": {
    "id": "pD7cCIGBHa2_"
   },
   "source": [
    "**Interpretation:**  The result shows the average for all the variables. We see the average weight of the item sold is 11.67 units, however not much can be inferred by this. The average sales and profit of an item in the data are 2181.288 INR and 13.41%  respectively. <br><br>\n",
    "                        To answer the given questions:\n",
    "                        <ol>\n",
    "                            <li>The average profit earned on each item is 13.41%</li>\n",
    "                        </ol>\n",
    "                    </b>\n",
    " <b>However, to answer the second question, we need to first select the dairy items and then take the average of their weight  </b>"
   ]
  },
  {
   "cell_type": "code",
   "execution_count": 9,
   "metadata": {},
   "outputs": [
    {
     "data": {
      "text/plain": [
       "Index(['Item_Identifier', 'Item_Weight', 'Item_Fat_Content', 'Item_Visibility',\n",
       "       'Item_Type', 'Item_MRP', 'Outlet_Identifier',\n",
       "       'Outlet_Establishment_Year', 'Outlet_Size', 'Outlet_Location_Type',\n",
       "       'Outlet_Type', 'Item_Outlet_Sales', 'Profit'],\n",
       "      dtype='object')"
      ]
     },
     "execution_count": 9,
     "metadata": {},
     "output_type": "execute_result"
    }
   ],
   "source": [
    "df_sales.columns"
   ]
  },
  {
   "cell_type": "code",
   "execution_count": 10,
   "metadata": {},
   "outputs": [
    {
     "data": {
      "text/html": [
       "<div>\n",
       "<style scoped>\n",
       "    .dataframe tbody tr th:only-of-type {\n",
       "        vertical-align: middle;\n",
       "    }\n",
       "\n",
       "    .dataframe tbody tr th {\n",
       "        vertical-align: top;\n",
       "    }\n",
       "\n",
       "    .dataframe thead th {\n",
       "        text-align: right;\n",
       "    }\n",
       "</style>\n",
       "<table border=\"1\" class=\"dataframe\">\n",
       "  <thead>\n",
       "    <tr style=\"text-align: right;\">\n",
       "      <th></th>\n",
       "      <th>Item_Identifier</th>\n",
       "      <th>Item_Weight</th>\n",
       "      <th>Item_Fat_Content</th>\n",
       "      <th>Item_Visibility</th>\n",
       "      <th>Item_Type</th>\n",
       "      <th>Item_MRP</th>\n",
       "      <th>Outlet_Identifier</th>\n",
       "      <th>Outlet_Establishment_Year</th>\n",
       "      <th>Outlet_Size</th>\n",
       "      <th>Outlet_Location_Type</th>\n",
       "      <th>Outlet_Type</th>\n",
       "      <th>Item_Outlet_Sales</th>\n",
       "      <th>Profit</th>\n",
       "    </tr>\n",
       "  </thead>\n",
       "  <tbody>\n",
       "    <tr>\n",
       "      <th>0</th>\n",
       "      <td>FDA15</td>\n",
       "      <td>9.30</td>\n",
       "      <td>Low Fat</td>\n",
       "      <td>0.016047</td>\n",
       "      <td>Dairy</td>\n",
       "      <td>249.8</td>\n",
       "      <td>OUT049</td>\n",
       "      <td>1999</td>\n",
       "      <td>Medium</td>\n",
       "      <td>Tier 2</td>\n",
       "      <td>Supermarket Type1</td>\n",
       "      <td>3735.1380</td>\n",
       "      <td>11.5</td>\n",
       "    </tr>\n",
       "    <tr>\n",
       "      <th>1</th>\n",
       "      <td>DRC01</td>\n",
       "      <td>5.92</td>\n",
       "      <td>Regular</td>\n",
       "      <td>0.019278</td>\n",
       "      <td>Soft Drinks</td>\n",
       "      <td>48.3</td>\n",
       "      <td>OUT018</td>\n",
       "      <td>2009</td>\n",
       "      <td>Medium</td>\n",
       "      <td>Tier 2</td>\n",
       "      <td>Supermarket Type2</td>\n",
       "      <td>443.4228</td>\n",
       "      <td>14.3</td>\n",
       "    </tr>\n",
       "    <tr>\n",
       "      <th>2</th>\n",
       "      <td>FDN15</td>\n",
       "      <td>17.50</td>\n",
       "      <td>Low Fat</td>\n",
       "      <td>0.016760</td>\n",
       "      <td>Meat</td>\n",
       "      <td>141.6</td>\n",
       "      <td>OUT049</td>\n",
       "      <td>1999</td>\n",
       "      <td>Medium</td>\n",
       "      <td>Tier 2</td>\n",
       "      <td>Supermarket Type1</td>\n",
       "      <td>2097.2700</td>\n",
       "      <td>14.5</td>\n",
       "    </tr>\n",
       "    <tr>\n",
       "      <th>3</th>\n",
       "      <td>FDX07</td>\n",
       "      <td>19.20</td>\n",
       "      <td>Regular</td>\n",
       "      <td>0.000000</td>\n",
       "      <td>Fruits and Vegetables</td>\n",
       "      <td>182.1</td>\n",
       "      <td>OUT010</td>\n",
       "      <td>1998</td>\n",
       "      <td>NaN</td>\n",
       "      <td>NaN</td>\n",
       "      <td>Grocery Store</td>\n",
       "      <td>732.3800</td>\n",
       "      <td>13.6</td>\n",
       "    </tr>\n",
       "    <tr>\n",
       "      <th>4</th>\n",
       "      <td>NCD19</td>\n",
       "      <td>8.93</td>\n",
       "      <td>Low Fat</td>\n",
       "      <td>0.000000</td>\n",
       "      <td>Household</td>\n",
       "      <td>53.9</td>\n",
       "      <td>OUT013</td>\n",
       "      <td>1987</td>\n",
       "      <td>High</td>\n",
       "      <td>Tier 3</td>\n",
       "      <td>Supermarket Type1</td>\n",
       "      <td>994.7052</td>\n",
       "      <td>14.1</td>\n",
       "    </tr>\n",
       "  </tbody>\n",
       "</table>\n",
       "</div>"
      ],
      "text/plain": [
       "  Item_Identifier  Item_Weight Item_Fat_Content  Item_Visibility  \\\n",
       "0           FDA15         9.30          Low Fat         0.016047   \n",
       "1           DRC01         5.92          Regular         0.019278   \n",
       "2           FDN15        17.50          Low Fat         0.016760   \n",
       "3           FDX07        19.20          Regular         0.000000   \n",
       "4           NCD19         8.93          Low Fat         0.000000   \n",
       "\n",
       "               Item_Type  Item_MRP Outlet_Identifier  \\\n",
       "0                  Dairy     249.8            OUT049   \n",
       "1            Soft Drinks      48.3            OUT018   \n",
       "2                   Meat     141.6            OUT049   \n",
       "3  Fruits and Vegetables     182.1            OUT010   \n",
       "4              Household      53.9            OUT013   \n",
       "\n",
       "   Outlet_Establishment_Year Outlet_Size Outlet_Location_Type  \\\n",
       "0                       1999      Medium               Tier 2   \n",
       "1                       2009      Medium               Tier 2   \n",
       "2                       1999      Medium               Tier 2   \n",
       "3                       1998         NaN                  NaN   \n",
       "4                       1987        High               Tier 3   \n",
       "\n",
       "         Outlet_Type  Item_Outlet_Sales  Profit  \n",
       "0  Supermarket Type1          3735.1380    11.5  \n",
       "1  Supermarket Type2           443.4228    14.3  \n",
       "2  Supermarket Type1          2097.2700    14.5  \n",
       "3      Grocery Store           732.3800    13.6  \n",
       "4  Supermarket Type1           994.7052    14.1  "
      ]
     },
     "execution_count": 10,
     "metadata": {},
     "output_type": "execute_result"
    }
   ],
   "source": [
    "df_sales.head()\n"
   ]
  },
  {
   "cell_type": "code",
   "execution_count": 11,
   "metadata": {},
   "outputs": [
    {
     "data": {
      "text/plain": [
       "12.256701612903253"
      ]
     },
     "execution_count": 11,
     "metadata": {},
     "output_type": "execute_result"
    }
   ],
   "source": [
    "df_sales[ df_sales['Item_Type'] == 'Dairy' ]['Item_Weight'].mean()"
   ]
  },
  {
   "cell_type": "code",
   "execution_count": 12,
   "metadata": {
    "id": "z0zKLbK0Ha2_",
    "outputId": "b6138d9a-be86-47b6-f861-199902cf3b9c"
   },
   "outputs": [
    {
     "data": {
      "text/plain": [
       "12.256701612903253"
      ]
     },
     "execution_count": 12,
     "metadata": {},
     "output_type": "execute_result"
    }
   ],
   "source": [
    "# select the rows having dairy item \n",
    "# declare it as 'df_dairy'\n",
    "df_dairy = df_sales[df_sales.Item_Type == \"Dairy\"]\n",
    "\n",
    "# obtain the average of its weight\n",
    "\n",
    "df_dairy.Item_Weight.mean()"
   ]
  },
  {
   "cell_type": "markdown",
   "metadata": {
    "id": "ws6M5hJfHa2_"
   },
   "source": [
    "<b>Interpretation:</b> 2. The average weight of the dairy items sold is 12.25 units\n",
    "                "
   ]
  },
  {
   "cell_type": "markdown",
   "metadata": {
    "id": "E8BlY79aHa2_"
   },
   "source": [
    "<a id=\"tmean\"> </a>\n",
    "### 3.2 Trimmed Mean\n",
    "We know that the mean value is affected by the extreme observations, so let us obtain the trimmed mean."
   ]
  },
  {
   "cell_type": "code",
   "execution_count": 13,
   "metadata": {
    "id": "lQ60UbAHHa2_"
   },
   "outputs": [],
   "source": [
    "# The function to obtain the trimmed mean is available in the stats module of the library scipy\n",
    "# The function computes the trimmed mean of a set of observations, we cannot pass the DataFrame\n",
    "# First import the required libraries\n",
    "# Then we  write a function 'trimmed_mean' to the get the trimmed mean all for numeric variable\n",
    "# Also add a column for mean to aid comparison\n",
    "\n",
    "# The user defined function:\n",
    "# Step 1: Select the columns with numeric variable type\n",
    "# Step 2: Create 3 empty lists for variable name, mean and trimmed mean\n",
    "# Step 3: Using a for loop to compute the mean values\n",
    "# Step 4: Append these values to the lists\n",
    "# Step 5: Create a DataFrame from these lists\n",
    "\n",
    "########################################################################################################\n",
    "\n",
    "# import the libraries numpy and scipy \n",
    "# import the stats module from the scipy \n",
    "import numpy as np\n",
    "import scipy\n",
    "from scipy import stats\n",
    "\n",
    "\n",
    "# function to obtain the trimmed mean\n",
    "def trimmed_mean(data):\n",
    "    num = pd.DataFrame(data.select_dtypes(include = np.number))    # select the columns with numeric variable type \n",
    "    n,mv, tmv = [],[],[]                                           # create 3 empty lists for variable name, mean and trimmed mean\n",
    "    for i in range(num.shape[1]) :                                 # use a for loop \n",
    "        n.append(num.iloc[:,i].name)                               # using a for loop append the variable name                                             \n",
    "        mv.append(num.iloc[:,i].mean())                            # using a for loop compute the mean values\n",
    "        # proportiontocut: fraction of data points to cut off of both tails of the distribution\n",
    "        tmv.append(scipy.stats.trim_mean(num.iloc[:,i], proportiontocut = 0.20)) # using a for loop compute the trimmed mean values\n",
    "   \n",
    "    df = pd.DataFrame([n,mv,tmv],index=[\"Variable\",\"Mean\",\"Trimmed Mean\"])       # create a DataFrame from these lists\n",
    "   \n",
    "    return(df.T)                                                   # return the transpose of the DataFrame"
   ]
  },
  {
   "cell_type": "code",
   "execution_count": 14,
   "metadata": {
    "id": "xFoEh6VaHa2_",
    "outputId": "3361c76b-872d-4ba9-e802-a42feefdb455"
   },
   "outputs": [
    {
     "data": {
      "text/html": [
       "<div>\n",
       "<style scoped>\n",
       "    .dataframe tbody tr th:only-of-type {\n",
       "        vertical-align: middle;\n",
       "    }\n",
       "\n",
       "    .dataframe tbody tr th {\n",
       "        vertical-align: top;\n",
       "    }\n",
       "\n",
       "    .dataframe thead th {\n",
       "        text-align: right;\n",
       "    }\n",
       "</style>\n",
       "<table border=\"1\" class=\"dataframe\">\n",
       "  <thead>\n",
       "    <tr style=\"text-align: right;\">\n",
       "      <th></th>\n",
       "      <th>Variable</th>\n",
       "      <th>Mean</th>\n",
       "      <th>Trimmed Mean</th>\n",
       "    </tr>\n",
       "  </thead>\n",
       "  <tbody>\n",
       "    <tr>\n",
       "      <th>0</th>\n",
       "      <td>Item_Weight</td>\n",
       "      <td>11.67674</td>\n",
       "      <td>12.815851</td>\n",
       "    </tr>\n",
       "    <tr>\n",
       "      <th>1</th>\n",
       "      <td>Item_Visibility</td>\n",
       "      <td>0.066132</td>\n",
       "      <td>0.057186</td>\n",
       "    </tr>\n",
       "    <tr>\n",
       "      <th>2</th>\n",
       "      <td>Item_MRP</td>\n",
       "      <td>140.998838</td>\n",
       "      <td>139.628074</td>\n",
       "    </tr>\n",
       "    <tr>\n",
       "      <th>3</th>\n",
       "      <td>Outlet_Establishment_Year</td>\n",
       "      <td>1997.831867</td>\n",
       "      <td>1998.595308</td>\n",
       "    </tr>\n",
       "    <tr>\n",
       "      <th>4</th>\n",
       "      <td>Item_Outlet_Sales</td>\n",
       "      <td>2181.288914</td>\n",
       "      <td>1883.197923</td>\n",
       "    </tr>\n",
       "    <tr>\n",
       "      <th>5</th>\n",
       "      <td>Profit</td>\n",
       "      <td>13.414514</td>\n",
       "      <td>13.841134</td>\n",
       "    </tr>\n",
       "  </tbody>\n",
       "</table>\n",
       "</div>"
      ],
      "text/plain": [
       "                    Variable         Mean Trimmed Mean\n",
       "0                Item_Weight     11.67674    12.815851\n",
       "1            Item_Visibility     0.066132     0.057186\n",
       "2                   Item_MRP   140.998838   139.628074\n",
       "3  Outlet_Establishment_Year  1997.831867  1998.595308\n",
       "4          Item_Outlet_Sales  2181.288914  1883.197923\n",
       "5                     Profit    13.414514    13.841134"
      ]
     },
     "execution_count": 14,
     "metadata": {},
     "output_type": "execute_result"
    }
   ],
   "source": [
    "# use the above defined function for our data\n",
    "trimmed_mean(df_sales)"
   ]
  },
  {
   "cell_type": "markdown",
   "metadata": {
    "id": "E-msf6OsHa2_"
   },
   "source": [
    "**Interpretation:** The trimmed mean for outlet sales is lower than the mean value. We infer that there are significantly many extreme observations. Similarly, for the weight of products, there is a slight difference in the means, indicating the presence of outliers.\n",
    "<br> There is not much difference in the values for profit and visibility of the item\n",
    "                 "
   ]
  },
  {
   "cell_type": "markdown",
   "metadata": {
    "id": "1NiKHzXBHa2_"
   },
   "source": [
    "<a id=\"median\"></a>\n",
    "### 3.3 Median\n",
    "<ul>\n",
    "  <li>The median value is the middlemost value of the dataset, it divides the data into two equal halves. Thus, it is a positional value</li>\n",
    "     <li>It can be obtained for categorical variables</li>\n",
    "  <li>Unlike mean, the median value is not affected by extreme values</li>\n",
    "    <li>The median value is at times used to impute the missing values in the data</li>\n",
    "</ul>"
   ]
  },
  {
   "cell_type": "code",
   "execution_count": 15,
   "metadata": {
    "id": "YEFHivhEHa2_",
    "outputId": "b6b7ea7c-d796-4194-ba62-c5967c879385"
   },
   "outputs": [
    {
     "name": "stdout",
     "output_type": "stream",
     "text": [
      "The median values for the numeric variables are:\n",
      " Item_Weight                    11.800000\n",
      "Item_Visibility                 0.053931\n",
      "Item_MRP                      142.700000\n",
      "Outlet_Establishment_Year    1999.000000\n",
      "Item_Outlet_Sales            1794.331000\n",
      "Profit                         13.900000\n",
      "dtype: float64\n"
     ]
    },
    {
     "name": "stderr",
     "output_type": "stream",
     "text": [
      "C:\\Users\\locha\\AppData\\Local\\Temp/ipykernel_8564/520938650.py:2: FutureWarning: Dropping of nuisance columns in DataFrame reductions (with 'numeric_only=None') is deprecated; in a future version this will raise TypeError.  Select only valid columns before calling the reduction.\n",
      "  print(\"The median values for the numeric variables are:\\n\", df_sales.median())\n"
     ]
    }
   ],
   "source": [
    "# calculate the median\n",
    "print(\"The median values for the numeric variables are:\\n\", df_sales.median())"
   ]
  },
  {
   "cell_type": "markdown",
   "metadata": {
    "id": "u95fS_ehHa3A"
   },
   "source": [
    "**Interpretation:** The above values show the median for all the variables. These values divide the observations into two halves implying that there are exactly 50% of observations above this point and 50% below.\n",
    "                        <br> For instance, consider the MRP of items, there are 50% of items with price less than 142.7 and 50% of items with price more than 142.7."
   ]
  },
  {
   "cell_type": "markdown",
   "metadata": {
    "id": "o72LeLFCHa3A"
   },
   "source": [
    "<a id=\"mode\"></a>\n",
    "### 3.4 Mode\n",
    "<ul>\n",
    "  <li> Mode of the data is the value which has the highest frequency</li>\n",
    "  <li>It is a measure that can be used for categorical variables. Example: gender</li>\n",
    "</ul>  "
   ]
  },
  {
   "cell_type": "code",
   "execution_count": 17,
   "metadata": {},
   "outputs": [
    {
     "data": {
      "text/html": [
       "<div>\n",
       "<style scoped>\n",
       "    .dataframe tbody tr th:only-of-type {\n",
       "        vertical-align: middle;\n",
       "    }\n",
       "\n",
       "    .dataframe tbody tr th {\n",
       "        vertical-align: top;\n",
       "    }\n",
       "\n",
       "    .dataframe thead th {\n",
       "        text-align: right;\n",
       "    }\n",
       "</style>\n",
       "<table border=\"1\" class=\"dataframe\">\n",
       "  <thead>\n",
       "    <tr style=\"text-align: right;\">\n",
       "      <th></th>\n",
       "      <th>Item_Identifier</th>\n",
       "      <th>Item_Fat_Content</th>\n",
       "      <th>Item_Type</th>\n",
       "      <th>Outlet_Identifier</th>\n",
       "      <th>Outlet_Size</th>\n",
       "      <th>Outlet_Location_Type</th>\n",
       "      <th>Outlet_Type</th>\n",
       "    </tr>\n",
       "  </thead>\n",
       "  <tbody>\n",
       "    <tr>\n",
       "      <th>0</th>\n",
       "      <td>FDA15</td>\n",
       "      <td>Low Fat</td>\n",
       "      <td>Dairy</td>\n",
       "      <td>OUT049</td>\n",
       "      <td>Medium</td>\n",
       "      <td>Tier 2</td>\n",
       "      <td>Supermarket Type1</td>\n",
       "    </tr>\n",
       "    <tr>\n",
       "      <th>1</th>\n",
       "      <td>DRC01</td>\n",
       "      <td>Regular</td>\n",
       "      <td>Soft Drinks</td>\n",
       "      <td>OUT018</td>\n",
       "      <td>Medium</td>\n",
       "      <td>Tier 2</td>\n",
       "      <td>Supermarket Type2</td>\n",
       "    </tr>\n",
       "    <tr>\n",
       "      <th>2</th>\n",
       "      <td>FDN15</td>\n",
       "      <td>Low Fat</td>\n",
       "      <td>Meat</td>\n",
       "      <td>OUT049</td>\n",
       "      <td>Medium</td>\n",
       "      <td>Tier 2</td>\n",
       "      <td>Supermarket Type1</td>\n",
       "    </tr>\n",
       "    <tr>\n",
       "      <th>3</th>\n",
       "      <td>FDX07</td>\n",
       "      <td>Regular</td>\n",
       "      <td>Fruits and Vegetables</td>\n",
       "      <td>OUT010</td>\n",
       "      <td>NaN</td>\n",
       "      <td>NaN</td>\n",
       "      <td>Grocery Store</td>\n",
       "    </tr>\n",
       "    <tr>\n",
       "      <th>4</th>\n",
       "      <td>NCD19</td>\n",
       "      <td>Low Fat</td>\n",
       "      <td>Household</td>\n",
       "      <td>OUT013</td>\n",
       "      <td>High</td>\n",
       "      <td>Tier 3</td>\n",
       "      <td>Supermarket Type1</td>\n",
       "    </tr>\n",
       "    <tr>\n",
       "      <th>...</th>\n",
       "      <td>...</td>\n",
       "      <td>...</td>\n",
       "      <td>...</td>\n",
       "      <td>...</td>\n",
       "      <td>...</td>\n",
       "      <td>...</td>\n",
       "      <td>...</td>\n",
       "    </tr>\n",
       "    <tr>\n",
       "      <th>8518</th>\n",
       "      <td>FDF22</td>\n",
       "      <td>Low Fat</td>\n",
       "      <td>Snack Foods</td>\n",
       "      <td>OUT013</td>\n",
       "      <td>High</td>\n",
       "      <td>Tier 3</td>\n",
       "      <td>Supermarket Type1</td>\n",
       "    </tr>\n",
       "    <tr>\n",
       "      <th>8519</th>\n",
       "      <td>FDS36</td>\n",
       "      <td>Regular</td>\n",
       "      <td>Baking Goods</td>\n",
       "      <td>OUT045</td>\n",
       "      <td>NaN</td>\n",
       "      <td>NaN</td>\n",
       "      <td>Supermarket Type1</td>\n",
       "    </tr>\n",
       "    <tr>\n",
       "      <th>8520</th>\n",
       "      <td>NCJ29</td>\n",
       "      <td>Low Fat</td>\n",
       "      <td>Health and Hygiene</td>\n",
       "      <td>OUT035</td>\n",
       "      <td>Small</td>\n",
       "      <td>Tier1</td>\n",
       "      <td>Supermarket Type1</td>\n",
       "    </tr>\n",
       "    <tr>\n",
       "      <th>8521</th>\n",
       "      <td>FDN46</td>\n",
       "      <td>Regular</td>\n",
       "      <td>Snack Foods</td>\n",
       "      <td>OUT018</td>\n",
       "      <td>Medium</td>\n",
       "      <td>Tier 2</td>\n",
       "      <td>Supermarket Type2</td>\n",
       "    </tr>\n",
       "    <tr>\n",
       "      <th>8522</th>\n",
       "      <td>DRG01</td>\n",
       "      <td>Low Fat</td>\n",
       "      <td>Soft Drinks</td>\n",
       "      <td>OUT046</td>\n",
       "      <td>Small</td>\n",
       "      <td>Tier1</td>\n",
       "      <td>Supermarket Type1</td>\n",
       "    </tr>\n",
       "  </tbody>\n",
       "</table>\n",
       "<p>8523 rows × 7 columns</p>\n",
       "</div>"
      ],
      "text/plain": [
       "     Item_Identifier Item_Fat_Content              Item_Type  \\\n",
       "0              FDA15          Low Fat                  Dairy   \n",
       "1              DRC01          Regular            Soft Drinks   \n",
       "2              FDN15          Low Fat                   Meat   \n",
       "3              FDX07          Regular  Fruits and Vegetables   \n",
       "4              NCD19          Low Fat              Household   \n",
       "...              ...              ...                    ...   \n",
       "8518           FDF22          Low Fat            Snack Foods   \n",
       "8519           FDS36          Regular           Baking Goods   \n",
       "8520           NCJ29          Low Fat     Health and Hygiene   \n",
       "8521           FDN46          Regular            Snack Foods   \n",
       "8522           DRG01          Low Fat            Soft Drinks   \n",
       "\n",
       "     Outlet_Identifier Outlet_Size Outlet_Location_Type        Outlet_Type  \n",
       "0               OUT049      Medium               Tier 2  Supermarket Type1  \n",
       "1               OUT018      Medium               Tier 2  Supermarket Type2  \n",
       "2               OUT049      Medium               Tier 2  Supermarket Type1  \n",
       "3               OUT010         NaN                  NaN      Grocery Store  \n",
       "4               OUT013        High               Tier 3  Supermarket Type1  \n",
       "...                ...         ...                  ...                ...  \n",
       "8518            OUT013        High               Tier 3  Supermarket Type1  \n",
       "8519            OUT045         NaN                  NaN  Supermarket Type1  \n",
       "8520            OUT035       Small                Tier1  Supermarket Type1  \n",
       "8521            OUT018      Medium               Tier 2  Supermarket Type2  \n",
       "8522            OUT046       Small                Tier1  Supermarket Type1  \n",
       "\n",
       "[8523 rows x 7 columns]"
      ]
     },
     "execution_count": 17,
     "metadata": {},
     "output_type": "execute_result"
    }
   ],
   "source": [
    "df_sales.select_dtypes(include=object)"
   ]
  },
  {
   "cell_type": "code",
   "execution_count": 20,
   "metadata": {},
   "outputs": [
    {
     "data": {
      "text/plain": [
       "array(['FDA15', 'DRC01', 'FDN15', ..., 'NCF55', 'NCW30', 'NCW05'],\n",
       "      dtype=object)"
      ]
     },
     "execution_count": 20,
     "metadata": {},
     "output_type": "execute_result"
    }
   ],
   "source": [
    "df_sales.select_dtypes(include=object)['Item_Identifier'].unique()"
   ]
  },
  {
   "cell_type": "code",
   "execution_count": 21,
   "metadata": {},
   "outputs": [
    {
     "data": {
      "text/plain": [
       "FDW13    10\n",
       "FDG33    10\n",
       "NCY18     9\n",
       "FDD38     9\n",
       "DRE49     9\n",
       "         ..\n",
       "FDY43     1\n",
       "FDQ60     1\n",
       "FDO33     1\n",
       "DRF48     1\n",
       "FDC23     1\n",
       "Name: Item_Identifier, Length: 1559, dtype: int64"
      ]
     },
     "execution_count": 21,
     "metadata": {},
     "output_type": "execute_result"
    }
   ],
   "source": [
    "df_sales.select_dtypes(include=object)['Item_Identifier'].value_counts()"
   ]
  },
  {
   "cell_type": "code",
   "execution_count": 22,
   "metadata": {},
   "outputs": [
    {
     "data": {
      "text/plain": [
       "Item_Identifier  Item_Fat_Content  Item_Type              Outlet_Identifier  Outlet_Size  Outlet_Location_Type  Outlet_Type      \n",
       "DRA12            LF                Soft Drinks            OUT035             Small        Tier1                 Supermarket Type1    1\n",
       "FDV27            Regular           Meat                   OUT019             Small        Tier1                 Grocery Store        1\n",
       "FDV32            Low Fat           Fruits and Vegetables  OUT035             Small        Tier1                 Supermarket Type1    1\n",
       "                                                          OUT019             Small        Tier1                 Grocery Store        1\n",
       "                                                          OUT018             Medium       Tier 2                Supermarket Type2    1\n",
       "                                                                                                                                    ..\n",
       "FDJ33            Regular           Snack Foods            OUT018             Medium       Tier 2                Supermarket Type2    1\n",
       "FDJ32            Low Fat           Fruits and Vegetables  OUT027             Medium       Tier 2                Supermarket Type3    1\n",
       "                                                          OUT013             High         Tier 3                Supermarket Type1    1\n",
       "                 LF                Fruits and Vegetables  OUT046             Small        Tier1                 Supermarket Type1    1\n",
       "NCZ54            Low Fat           Household              OUT049             Medium       Tier 2                Supermarket Type1    1\n",
       "Length: 6113, dtype: int64"
      ]
     },
     "execution_count": 22,
     "metadata": {},
     "output_type": "execute_result"
    }
   ],
   "source": [
    "df_sales.select_dtypes(include=object).value_counts()"
   ]
  },
  {
   "cell_type": "code",
   "execution_count": 23,
   "metadata": {},
   "outputs": [
    {
     "data": {
      "text/plain": [
       "Low Fat    5089\n",
       "Regular    2889\n",
       "LF          316\n",
       "reg         117\n",
       "low fat     112\n",
       "Name: Item_Fat_Content, dtype: int64"
      ]
     },
     "execution_count": 23,
     "metadata": {},
     "output_type": "execute_result"
    }
   ],
   "source": [
    "df_sales.select_dtypes(include=object)['Item_Fat_Content'].value_counts()"
   ]
  },
  {
   "cell_type": "code",
   "execution_count": null,
   "metadata": {},
   "outputs": [],
   "source": []
  },
  {
   "cell_type": "code",
   "execution_count": null,
   "metadata": {},
   "outputs": [],
   "source": []
  },
  {
   "cell_type": "code",
   "execution_count": 16,
   "metadata": {
    "id": "oW624AFXHa3A",
    "outputId": "2a2730fc-ed00-4c91-a2c9-487c21ff52dc"
   },
   "outputs": [
    {
     "data": {
      "text/html": [
       "<div>\n",
       "<style scoped>\n",
       "    .dataframe tbody tr th:only-of-type {\n",
       "        vertical-align: middle;\n",
       "    }\n",
       "\n",
       "    .dataframe tbody tr th {\n",
       "        vertical-align: top;\n",
       "    }\n",
       "\n",
       "    .dataframe thead th {\n",
       "        text-align: right;\n",
       "    }\n",
       "</style>\n",
       "<table border=\"1\" class=\"dataframe\">\n",
       "  <thead>\n",
       "    <tr style=\"text-align: right;\">\n",
       "      <th></th>\n",
       "      <th>Item_Identifier</th>\n",
       "      <th>Item_Fat_Content</th>\n",
       "      <th>Item_Type</th>\n",
       "      <th>Outlet_Identifier</th>\n",
       "      <th>Outlet_Size</th>\n",
       "      <th>Outlet_Location_Type</th>\n",
       "      <th>Outlet_Type</th>\n",
       "    </tr>\n",
       "  </thead>\n",
       "  <tbody>\n",
       "    <tr>\n",
       "      <th>0</th>\n",
       "      <td>FDG33</td>\n",
       "      <td>Low Fat</td>\n",
       "      <td>Fruits and Vegetables</td>\n",
       "      <td>OUT027</td>\n",
       "      <td>Medium</td>\n",
       "      <td>Tier 2</td>\n",
       "      <td>Supermarket Type1</td>\n",
       "    </tr>\n",
       "    <tr>\n",
       "      <th>1</th>\n",
       "      <td>FDW13</td>\n",
       "      <td>NaN</td>\n",
       "      <td>NaN</td>\n",
       "      <td>NaN</td>\n",
       "      <td>NaN</td>\n",
       "      <td>NaN</td>\n",
       "      <td>NaN</td>\n",
       "    </tr>\n",
       "  </tbody>\n",
       "</table>\n",
       "</div>"
      ],
      "text/plain": [
       "  Item_Identifier Item_Fat_Content              Item_Type Outlet_Identifier  \\\n",
       "0           FDG33          Low Fat  Fruits and Vegetables            OUT027   \n",
       "1           FDW13              NaN                    NaN               NaN   \n",
       "\n",
       "  Outlet_Size Outlet_Location_Type        Outlet_Type  \n",
       "0      Medium               Tier 2  Supermarket Type1  \n",
       "1         NaN                  NaN                NaN  "
      ]
     },
     "execution_count": 16,
     "metadata": {},
     "output_type": "execute_result"
    }
   ],
   "source": [
    "# filter the categorical variables from the data\n",
    "df_cat = df_sales.select_dtypes(include=object)\n",
    "\n",
    "# calculate the mode\n",
    "df_cat.mode()"
   ]
  },
  {
   "cell_type": "markdown",
   "metadata": {
    "id": "oI_8AdNgHa3A"
   },
   "source": [
    "**Interpretation:** We see that the variable containing a unique product ID is bimodal (having two modes) and others are unimodal (having one mode). "
   ]
  },
  {
   "cell_type": "markdown",
   "metadata": {
    "id": "PFJkepHjHa3A"
   },
   "source": [
    "**From the above output, we see that the frequency of each observation is not given. In order to get a better insight, use the `describe()`.**"
   ]
  },
  {
   "cell_type": "code",
   "execution_count": 24,
   "metadata": {
    "id": "oAiNhcd3Ha3A",
    "outputId": "e7f2e67e-4d7c-4d49-ada2-860d68a491b6",
    "scrolled": true
   },
   "outputs": [
    {
     "data": {
      "text/html": [
       "<div>\n",
       "<style scoped>\n",
       "    .dataframe tbody tr th:only-of-type {\n",
       "        vertical-align: middle;\n",
       "    }\n",
       "\n",
       "    .dataframe tbody tr th {\n",
       "        vertical-align: top;\n",
       "    }\n",
       "\n",
       "    .dataframe thead th {\n",
       "        text-align: right;\n",
       "    }\n",
       "</style>\n",
       "<table border=\"1\" class=\"dataframe\">\n",
       "  <thead>\n",
       "    <tr style=\"text-align: right;\">\n",
       "      <th></th>\n",
       "      <th>Item_Identifier</th>\n",
       "      <th>Item_Fat_Content</th>\n",
       "      <th>Item_Type</th>\n",
       "      <th>Outlet_Identifier</th>\n",
       "      <th>Outlet_Size</th>\n",
       "      <th>Outlet_Location_Type</th>\n",
       "      <th>Outlet_Type</th>\n",
       "    </tr>\n",
       "  </thead>\n",
       "  <tbody>\n",
       "    <tr>\n",
       "      <th>count</th>\n",
       "      <td>8523</td>\n",
       "      <td>8523</td>\n",
       "      <td>8523</td>\n",
       "      <td>8523</td>\n",
       "      <td>6113</td>\n",
       "      <td>6473</td>\n",
       "      <td>8523</td>\n",
       "    </tr>\n",
       "    <tr>\n",
       "      <th>unique</th>\n",
       "      <td>1559</td>\n",
       "      <td>5</td>\n",
       "      <td>16</td>\n",
       "      <td>10</td>\n",
       "      <td>3</td>\n",
       "      <td>8</td>\n",
       "      <td>4</td>\n",
       "    </tr>\n",
       "    <tr>\n",
       "      <th>top</th>\n",
       "      <td>FDW13</td>\n",
       "      <td>Low Fat</td>\n",
       "      <td>Fruits and Vegetables</td>\n",
       "      <td>OUT027</td>\n",
       "      <td>Medium</td>\n",
       "      <td>Tier 2</td>\n",
       "      <td>Supermarket Type1</td>\n",
       "    </tr>\n",
       "    <tr>\n",
       "      <th>freq</th>\n",
       "      <td>10</td>\n",
       "      <td>5089</td>\n",
       "      <td>1232</td>\n",
       "      <td>935</td>\n",
       "      <td>2793</td>\n",
       "      <td>2793</td>\n",
       "      <td>5577</td>\n",
       "    </tr>\n",
       "  </tbody>\n",
       "</table>\n",
       "</div>"
      ],
      "text/plain": [
       "       Item_Identifier Item_Fat_Content              Item_Type  \\\n",
       "count             8523             8523                   8523   \n",
       "unique            1559                5                     16   \n",
       "top              FDW13          Low Fat  Fruits and Vegetables   \n",
       "freq                10             5089                   1232   \n",
       "\n",
       "       Outlet_Identifier Outlet_Size Outlet_Location_Type        Outlet_Type  \n",
       "count               8523        6113                 6473               8523  \n",
       "unique                10           3                    8                  4  \n",
       "top               OUT027      Medium               Tier 2  Supermarket Type1  \n",
       "freq                 935        2793                 2793               5577  "
      ]
     },
     "execution_count": 24,
     "metadata": {},
     "output_type": "execute_result"
    }
   ],
   "source": [
    "# get the summary of categorical variables\n",
    "df_cat.describe()"
   ]
  },
  {
   "cell_type": "code",
   "execution_count": null,
   "metadata": {},
   "outputs": [],
   "source": []
  },
  {
   "cell_type": "markdown",
   "metadata": {
    "id": "qfhOOONmHa3A"
   },
   "source": [
    "<b>The output gives:\n",
    " <ol>\n",
    "                            <li> count: number of values other than NaN </li>\n",
    "                            <li> unique: number of unique values present in the variable</li>\n",
    "                            <li> top: most repeated value   \n",
    "                            <li> frequency: frequency of most repeated value</li>\n",
    "                        </ol> \n",
    "</b><br>\n",
    "**Interpretation:** From the output, we see that the variable representing the outlet size has missing values since its count 6113 is less than 8523 (number of observations in the data). Similarly, for variable representing type of outlet location there 6473 observations indicating missing values.\n",
    "<br>There are 1559 unique items under study. Also, note here item FDG33 is the most common item with a frequency of 10. However, the previous output for mode it is observed that item FWD13 is also a common item with the same frequency- 10. It is a good practice to check for mode values using the mode() \n",
    "                     </b>\n",
    "               "
   ]
  },
  {
   "cell_type": "markdown",
   "metadata": {
    "id": "0s_OMFOKHa3A"
   },
   "source": [
    " <b>Note that the DataFrame we considered has categorical variables only. If we consider a DataFrame which has both categorical and numerical variables, then the describe function will give a summary of the numeric variables only. In order to get summary for categorical variables use describe(include=\"object\")</b>"
   ]
  },
  {
   "cell_type": "code",
   "execution_count": 25,
   "metadata": {
    "id": "XJOFKDUaHa3A",
    "outputId": "172caacd-5f9b-4929-f930-985e9de37998"
   },
   "outputs": [
    {
     "data": {
      "text/html": [
       "<div>\n",
       "<style scoped>\n",
       "    .dataframe tbody tr th:only-of-type {\n",
       "        vertical-align: middle;\n",
       "    }\n",
       "\n",
       "    .dataframe tbody tr th {\n",
       "        vertical-align: top;\n",
       "    }\n",
       "\n",
       "    .dataframe thead th {\n",
       "        text-align: right;\n",
       "    }\n",
       "</style>\n",
       "<table border=\"1\" class=\"dataframe\">\n",
       "  <thead>\n",
       "    <tr style=\"text-align: right;\">\n",
       "      <th></th>\n",
       "      <th>Item_Identifier</th>\n",
       "      <th>Item_Fat_Content</th>\n",
       "      <th>Item_Type</th>\n",
       "      <th>Outlet_Identifier</th>\n",
       "      <th>Outlet_Size</th>\n",
       "      <th>Outlet_Location_Type</th>\n",
       "      <th>Outlet_Type</th>\n",
       "    </tr>\n",
       "  </thead>\n",
       "  <tbody>\n",
       "    <tr>\n",
       "      <th>count</th>\n",
       "      <td>8523</td>\n",
       "      <td>8523</td>\n",
       "      <td>8523</td>\n",
       "      <td>8523</td>\n",
       "      <td>6113</td>\n",
       "      <td>6473</td>\n",
       "      <td>8523</td>\n",
       "    </tr>\n",
       "    <tr>\n",
       "      <th>unique</th>\n",
       "      <td>1559</td>\n",
       "      <td>5</td>\n",
       "      <td>16</td>\n",
       "      <td>10</td>\n",
       "      <td>3</td>\n",
       "      <td>8</td>\n",
       "      <td>4</td>\n",
       "    </tr>\n",
       "    <tr>\n",
       "      <th>top</th>\n",
       "      <td>FDW13</td>\n",
       "      <td>Low Fat</td>\n",
       "      <td>Fruits and Vegetables</td>\n",
       "      <td>OUT027</td>\n",
       "      <td>Medium</td>\n",
       "      <td>Tier 2</td>\n",
       "      <td>Supermarket Type1</td>\n",
       "    </tr>\n",
       "    <tr>\n",
       "      <th>freq</th>\n",
       "      <td>10</td>\n",
       "      <td>5089</td>\n",
       "      <td>1232</td>\n",
       "      <td>935</td>\n",
       "      <td>2793</td>\n",
       "      <td>2793</td>\n",
       "      <td>5577</td>\n",
       "    </tr>\n",
       "  </tbody>\n",
       "</table>\n",
       "</div>"
      ],
      "text/plain": [
       "       Item_Identifier Item_Fat_Content              Item_Type  \\\n",
       "count             8523             8523                   8523   \n",
       "unique            1559                5                     16   \n",
       "top              FDW13          Low Fat  Fruits and Vegetables   \n",
       "freq                10             5089                   1232   \n",
       "\n",
       "       Outlet_Identifier Outlet_Size Outlet_Location_Type        Outlet_Type  \n",
       "count               8523        6113                 6473               8523  \n",
       "unique                10           3                    8                  4  \n",
       "top               OUT027      Medium               Tier 2  Supermarket Type1  \n",
       "freq                 935        2793                 2793               5577  "
      ]
     },
     "execution_count": 25,
     "metadata": {},
     "output_type": "execute_result"
    }
   ],
   "source": [
    "# summary of categorical values of a DataFrame\n",
    "df_sales.describe(include=\"object\") "
   ]
  },
  {
   "cell_type": "code",
   "execution_count": 26,
   "metadata": {},
   "outputs": [
    {
     "data": {
      "text/html": [
       "<div>\n",
       "<style scoped>\n",
       "    .dataframe tbody tr th:only-of-type {\n",
       "        vertical-align: middle;\n",
       "    }\n",
       "\n",
       "    .dataframe tbody tr th {\n",
       "        vertical-align: top;\n",
       "    }\n",
       "\n",
       "    .dataframe thead th {\n",
       "        text-align: right;\n",
       "    }\n",
       "</style>\n",
       "<table border=\"1\" class=\"dataframe\">\n",
       "  <thead>\n",
       "    <tr style=\"text-align: right;\">\n",
       "      <th></th>\n",
       "      <th>Item_Weight</th>\n",
       "      <th>Item_Visibility</th>\n",
       "      <th>Item_MRP</th>\n",
       "      <th>Outlet_Establishment_Year</th>\n",
       "      <th>Item_Outlet_Sales</th>\n",
       "      <th>Profit</th>\n",
       "    </tr>\n",
       "  </thead>\n",
       "  <tbody>\n",
       "    <tr>\n",
       "      <th>count</th>\n",
       "      <td>7774.000000</td>\n",
       "      <td>8523.000000</td>\n",
       "      <td>8523.000000</td>\n",
       "      <td>8523.000000</td>\n",
       "      <td>8523.000000</td>\n",
       "      <td>8523.000000</td>\n",
       "    </tr>\n",
       "    <tr>\n",
       "      <th>mean</th>\n",
       "      <td>11.676740</td>\n",
       "      <td>0.066132</td>\n",
       "      <td>140.998838</td>\n",
       "      <td>1997.831867</td>\n",
       "      <td>2181.288914</td>\n",
       "      <td>13.414514</td>\n",
       "    </tr>\n",
       "    <tr>\n",
       "      <th>std</th>\n",
       "      <td>5.776851</td>\n",
       "      <td>0.051598</td>\n",
       "      <td>62.258099</td>\n",
       "      <td>8.371760</td>\n",
       "      <td>1706.499616</td>\n",
       "      <td>1.701840</td>\n",
       "    </tr>\n",
       "    <tr>\n",
       "      <th>min</th>\n",
       "      <td>0.000000</td>\n",
       "      <td>0.000000</td>\n",
       "      <td>31.300000</td>\n",
       "      <td>1985.000000</td>\n",
       "      <td>33.290000</td>\n",
       "      <td>0.100000</td>\n",
       "    </tr>\n",
       "    <tr>\n",
       "      <th>25%</th>\n",
       "      <td>7.720000</td>\n",
       "      <td>0.026989</td>\n",
       "      <td>93.800000</td>\n",
       "      <td>1987.000000</td>\n",
       "      <td>834.247400</td>\n",
       "      <td>13.150000</td>\n",
       "    </tr>\n",
       "    <tr>\n",
       "      <th>50%</th>\n",
       "      <td>11.800000</td>\n",
       "      <td>0.053931</td>\n",
       "      <td>142.700000</td>\n",
       "      <td>1999.000000</td>\n",
       "      <td>1794.331000</td>\n",
       "      <td>13.900000</td>\n",
       "    </tr>\n",
       "    <tr>\n",
       "      <th>75%</th>\n",
       "      <td>16.500000</td>\n",
       "      <td>0.094585</td>\n",
       "      <td>185.650000</td>\n",
       "      <td>2004.000000</td>\n",
       "      <td>3101.296400</td>\n",
       "      <td>14.300000</td>\n",
       "    </tr>\n",
       "    <tr>\n",
       "      <th>max</th>\n",
       "      <td>21.350000</td>\n",
       "      <td>0.328391</td>\n",
       "      <td>266.900000</td>\n",
       "      <td>2009.000000</td>\n",
       "      <td>13086.964800</td>\n",
       "      <td>24.000000</td>\n",
       "    </tr>\n",
       "  </tbody>\n",
       "</table>\n",
       "</div>"
      ],
      "text/plain": [
       "       Item_Weight  Item_Visibility     Item_MRP  Outlet_Establishment_Year  \\\n",
       "count  7774.000000      8523.000000  8523.000000                8523.000000   \n",
       "mean     11.676740         0.066132   140.998838                1997.831867   \n",
       "std       5.776851         0.051598    62.258099                   8.371760   \n",
       "min       0.000000         0.000000    31.300000                1985.000000   \n",
       "25%       7.720000         0.026989    93.800000                1987.000000   \n",
       "50%      11.800000         0.053931   142.700000                1999.000000   \n",
       "75%      16.500000         0.094585   185.650000                2004.000000   \n",
       "max      21.350000         0.328391   266.900000                2009.000000   \n",
       "\n",
       "       Item_Outlet_Sales       Profit  \n",
       "count        8523.000000  8523.000000  \n",
       "mean         2181.288914    13.414514  \n",
       "std          1706.499616     1.701840  \n",
       "min            33.290000     0.100000  \n",
       "25%           834.247400    13.150000  \n",
       "50%          1794.331000    13.900000  \n",
       "75%          3101.296400    14.300000  \n",
       "max         13086.964800    24.000000  "
      ]
     },
     "execution_count": 26,
     "metadata": {},
     "output_type": "execute_result"
    }
   ],
   "source": [
    "df_sales.describe() "
   ]
  },
  {
   "cell_type": "code",
   "execution_count": null,
   "metadata": {},
   "outputs": [],
   "source": []
  },
  {
   "cell_type": "markdown",
   "metadata": {
    "id": "fwPVnVloHa3A"
   },
   "source": [
    "**The output is the same as the above result.**"
   ]
  },
  {
   "cell_type": "markdown",
   "metadata": {
    "id": "dm2raQZcHa3A"
   },
   "source": [
    "<a id=\"vcounts\"></a>\n",
    "### 3.5 Value Counts\n",
    "<ul>\n",
    "  <li>It is not possible to find the mean of a categorical variable</li>\n",
    "  <li>However, it is possible to know the number of times a category appears in the data</li>\n",
    "</ul> "
   ]
  },
  {
   "cell_type": "markdown",
   "metadata": {
    "id": "fdWu-yMuHa3A"
   },
   "source": [
    "Let us note the categorical variables in the data."
   ]
  },
  {
   "cell_type": "code",
   "execution_count": 27,
   "metadata": {
    "id": "EPw-pSYbHa3A",
    "outputId": "1bcd2476-b309-45e2-d706-6739e6540ca1"
   },
   "outputs": [
    {
     "data": {
      "text/plain": [
       "Index(['Item_Identifier', 'Item_Fat_Content', 'Item_Type', 'Outlet_Identifier',\n",
       "       'Outlet_Size', 'Outlet_Location_Type', 'Outlet_Type'],\n",
       "      dtype='object')"
      ]
     },
     "execution_count": 27,
     "metadata": {},
     "output_type": "execute_result"
    }
   ],
   "source": [
    "# display the columns names of the DataFrame use the columns attribute\n",
    "df_cat.columns"
   ]
  },
  {
   "cell_type": "code",
   "execution_count": null,
   "metadata": {},
   "outputs": [],
   "source": []
  },
  {
   "cell_type": "markdown",
   "metadata": {
    "id": "PVdraITNHa3A"
   },
   "source": [
    "The categorical variables in the data are Item_Identifier, Item_Fat_Content, Item_Type, Outlet_Identifier, Outlet_Size, Outlet_Location_Type, and Outlet_Type.\n",
    "\n",
    "**Let us get a count of all the categories in the data.**"
   ]
  },
  {
   "cell_type": "markdown",
   "metadata": {
    "id": "DYZj8uB8Ha3A"
   },
   "source": [
    "1. The variable `Item_Identifier`"
   ]
  },
  {
   "cell_type": "code",
   "execution_count": 28,
   "metadata": {
    "id": "ZqjBkmYCHa3A",
    "outputId": "9655334a-71f7-4de1-a415-c1cbd39779f7"
   },
   "outputs": [
    {
     "data": {
      "text/plain": [
       "FDW13    10\n",
       "FDG33    10\n",
       "NCY18     9\n",
       "FDD38     9\n",
       "DRE49     9\n",
       "         ..\n",
       "FDY43     1\n",
       "FDQ60     1\n",
       "FDO33     1\n",
       "DRF48     1\n",
       "FDC23     1\n",
       "Name: Item_Identifier, Length: 1559, dtype: int64"
      ]
     },
     "execution_count": 28,
     "metadata": {},
     "output_type": "execute_result"
    }
   ],
   "source": [
    "# use value_counts() to get frequencies of each category\n",
    "df_cat.Item_Identifier.value_counts()"
   ]
  },
  {
   "cell_type": "markdown",
   "metadata": {
    "id": "i0ss0JpFHa3A"
   },
   "source": [
    "**Interpretation:** As per the data definition, the variable 'Item_Identifier' is a unique product ID assigned to every distinct item. From the output, we can see there are 1559 items. The variable is bimodal since categories 'FDG33' and 'FDW13' have equal frequencies. This was inferred before when we used the mode() and describe()\n",
    "                   "
   ]
  },
  {
   "cell_type": "markdown",
   "metadata": {
    "id": "5H8PHHVEHa3A"
   },
   "source": [
    "2. The variable `Item_Fat_Content`"
   ]
  },
  {
   "cell_type": "code",
   "execution_count": 29,
   "metadata": {
    "id": "8dYNMUSfHa3A",
    "outputId": "99bfc707-c081-4504-eee2-73388d7a0557"
   },
   "outputs": [
    {
     "data": {
      "text/plain": [
       "Low Fat    5089\n",
       "Regular    2889\n",
       "LF          316\n",
       "reg         117\n",
       "low fat     112\n",
       "Name: Item_Fat_Content, dtype: int64"
      ]
     },
     "execution_count": 29,
     "metadata": {},
     "output_type": "execute_result"
    }
   ],
   "source": [
    "# use the value_counts() to get frequencies of each category\n",
    "df_cat.Item_Fat_Content.value_counts()"
   ]
  },
  {
   "cell_type": "markdown",
   "metadata": {
    "id": "ycuVUVe9Ha3A"
   },
   "source": [
    "**Interpretation:** We see that there are 5 categories viz, Low Fat, Regular, LF, reg, low fat. \n",
    "However, note that 'Low Fat' has also been referred to as 'low fat' and 'LF' in the dataset, and 'Regular'  as 'reg'\n",
    "                    <br><br>\n",
    "**We shall now rectify the inconsistencies using the replace()**"
   ]
  },
  {
   "cell_type": "code",
   "execution_count": 30,
   "metadata": {
    "id": "kNYBJCoBHa3A"
   },
   "outputs": [],
   "source": [
    "# to replace \"low fat\" by \"Low Fat\"\n",
    "df_sales.replace(to_replace=\"low fat\", value=\"Low Fat\", inplace=True)\n",
    "\n",
    "# to replace \"low fat\" by \"Low Fat\"\n",
    "df_sales.replace(to_replace=\"LF\", value=\"Low Fat\", inplace=True)\n",
    "\n",
    "# to replace \"reg\" by \"Regular\"\n",
    "df_sales.replace(to_replace=\"reg\", value=\"Regular\", inplace=True)"
   ]
  },
  {
   "cell_type": "code",
   "execution_count": 31,
   "metadata": {
    "id": "Lv68HEpWHa3A",
    "outputId": "18345634-ec30-404e-a9dd-f6827def1b2d"
   },
   "outputs": [
    {
     "data": {
      "text/plain": [
       "Low Fat    5517\n",
       "Regular    3006\n",
       "Name: Item_Fat_Content, dtype: int64"
      ]
     },
     "execution_count": 31,
     "metadata": {},
     "output_type": "execute_result"
    }
   ],
   "source": [
    "# check whether the values have got replaced\n",
    "# use value_counts() to get frequencies of each category\n",
    "df_sales.Item_Fat_Content.value_counts()"
   ]
  },
  {
   "cell_type": "markdown",
   "metadata": {
    "id": "r-G7X-XHHa3A"
   },
   "source": [
    "**Interpretation:** There are two categories present in the variable. The data has more items with less fat content\n",
    "                   "
   ]
  },
  {
   "cell_type": "markdown",
   "metadata": {
    "id": "gJO_cOrqHa3A"
   },
   "source": [
    "3. The variable `Item_Type`"
   ]
  },
  {
   "cell_type": "code",
   "execution_count": 32,
   "metadata": {
    "id": "fHUgb2mlHa3A",
    "outputId": "48cf96c3-334f-4a0e-ad4b-a6995b228688"
   },
   "outputs": [
    {
     "data": {
      "text/plain": [
       "Fruits and Vegetables    1232\n",
       "Snack Foods              1200\n",
       "Household                 910\n",
       "Frozen Foods              856\n",
       "Dairy                     682\n",
       "Canned                    649\n",
       "Baking Goods              648\n",
       "Health and Hygiene        520\n",
       "Soft Drinks               445\n",
       "Meat                      425\n",
       "Breads                    251\n",
       "Hard Drinks               214\n",
       "Others                    169\n",
       "Starchy Foods             148\n",
       "Breakfast                 110\n",
       "Seafood                    64\n",
       "Name: Item_Type, dtype: int64"
      ]
     },
     "execution_count": 32,
     "metadata": {},
     "output_type": "execute_result"
    }
   ],
   "source": [
    "# use value_counts() to get frequencies of each category\n",
    "df_cat.Item_Type.value_counts()"
   ]
  },
  {
   "cell_type": "markdown",
   "metadata": {
    "id": "kUNOfWasHa3A"
   },
   "source": [
    "**Interpretation:** There are 16 varieties of items present in the data. Fruits and Vegetables seem to have the highest frequency. And seafood has the lowest frequency."
   ]
  },
  {
   "cell_type": "markdown",
   "metadata": {
    "id": "Sg9oXo4SHa3A"
   },
   "source": [
    "4. The variable `Outlet_Identifier`"
   ]
  },
  {
   "cell_type": "code",
   "execution_count": 33,
   "metadata": {
    "id": "yE0YyHcRHa3A",
    "outputId": "fcdee883-207c-4a6e-9439-9f03af41fd71"
   },
   "outputs": [
    {
     "data": {
      "text/plain": [
       "OUT027    935\n",
       "OUT013    932\n",
       "OUT049    930\n",
       "OUT046    930\n",
       "OUT035    930\n",
       "OUT045    929\n",
       "OUT018    928\n",
       "OUT017    926\n",
       "OUT010    555\n",
       "OUT019    528\n",
       "Name: Outlet_Identifier, dtype: int64"
      ]
     },
     "execution_count": 33,
     "metadata": {},
     "output_type": "execute_result"
    }
   ],
   "source": [
    "# use value_counts() to get frequencies of each category\n",
    "df_cat.Outlet_Identifier.value_counts()"
   ]
  },
  {
   "cell_type": "markdown",
   "metadata": {
    "id": "c8MTN9uSHa3A"
   },
   "source": [
    "**Interpretation:** There are 10 stores considered for the analysis. All stores have almost same frequency except for OUT010 and OUT019 have low observations."
   ]
  },
  {
   "cell_type": "markdown",
   "metadata": {
    "id": "qwe1dDvvHa3B"
   },
   "source": [
    "5. The variable `Outlet_Size`"
   ]
  },
  {
   "cell_type": "code",
   "execution_count": 34,
   "metadata": {
    "id": "KLkJOE6zHa3B",
    "outputId": "4287374c-49da-41ea-f17d-bffe81442a6e"
   },
   "outputs": [
    {
     "data": {
      "text/plain": [
       "Medium    2793\n",
       "Small     2388\n",
       "High       932\n",
       "Name: Outlet_Size, dtype: int64"
      ]
     },
     "execution_count": 34,
     "metadata": {},
     "output_type": "execute_result"
    }
   ],
   "source": [
    "# use value_counts() to get frequencies of each category\n",
    "df_cat.Outlet_Size.value_counts()"
   ]
  },
  {
   "cell_type": "markdown",
   "metadata": {
    "id": "Va4NrlB7Ha3B"
   },
   "source": [
    "**Interpretation:** This variable gives the size of the outlet. There are three categories-Small, Medium and High. There are relatively a lesser number of outlets which are classified as 'High'. The data comprises more of 'Small' and 'Medium' sized outlets. However, note that the data has missing values."
   ]
  },
  {
   "cell_type": "markdown",
   "metadata": {
    "id": "qR_oqzEVHa3B"
   },
   "source": [
    "6. The variable `Outlet_Location_Type`"
   ]
  },
  {
   "cell_type": "code",
   "execution_count": 35,
   "metadata": {
    "id": "7gb14Qt3Ha3B",
    "outputId": "7e772b2a-f1a2-4565-ac31-394e03aa6882"
   },
   "outputs": [
    {
     "data": {
      "text/plain": [
       "Tier 2    2793\n",
       "Tier1     2388\n",
       "Tier 3     932\n",
       "?          120\n",
       "  --       109\n",
       "  -         67\n",
       "na          48\n",
       "NAN         16\n",
       "Name: Outlet_Location_Type, dtype: int64"
      ]
     },
     "execution_count": 35,
     "metadata": {},
     "output_type": "execute_result"
    }
   ],
   "source": [
    "# use value_counts() to get frequencies of each category\n",
    "df_cat.Outlet_Location_Type.value_counts()"
   ]
  },
  {
   "cell_type": "markdown",
   "metadata": {
    "id": "chmIo2LIHa3B"
   },
   "source": [
    "**Interpretation:** The variable represents the size of the city in which the store is located. The city size has three categories. The 'Tier 2' city has the highest number of stores. However, there are other values such as `?`, `-`, `na`, which all represent missing data. We shall deal with missing data in later sessions."
   ]
  },
  {
   "cell_type": "markdown",
   "metadata": {
    "id": "Y8toIhOuHa3B"
   },
   "source": [
    "<a id=\"pvalues\"></a>\n",
    "### 3.6 Partition Values (Quantiles)\n",
    "<ul>\n",
    "  <li>Partition values are the  values which divide the dataset into equal parts</li>\n",
    "  <li>We have seen that the median divides the data into two equal halves. Similarly, in order to divide the data into four parts we use quartiles, for ten parts we use deciles</li>\n",
    "</ul> "
   ]
  },
  {
   "cell_type": "markdown",
   "metadata": {
    "id": "w4OALd1nHa3B"
   },
   "source": [
    "**1. Quartiles:** \n",
    "\n",
    "Quartiles are the data points which partitions the data into 4 equal parts. So, there are 3 quartiles."
   ]
  },
  {
   "cell_type": "markdown",
   "metadata": {
    "id": "RXwUf_9LHa3B"
   },
   "source": [
    "**The First Quartile:** The first quartile is the point that partitions the first 25% of the data and later 75%. This means that 25% of the data are less than or equal to the first quartile and 75% of the observations are greater than or equal to the first quartile. The first quartile is the same as the 25th percentile.\n"
   ]
  },
  {
   "cell_type": "markdown",
   "metadata": {
    "id": "m4vHfMzeHa3B"
   },
   "source": [
    "To get the quartiles we use the quantile function."
   ]
  },
  {
   "cell_type": "code",
   "execution_count": null,
   "metadata": {
    "id": "cZfbtTGkHa3B",
    "outputId": "4c1ac2b4-6b90-406e-f369-d6b456d4bbd8"
   },
   "outputs": [],
   "source": [
    "# the first quartile\n",
    "df_sales.quantile(0.25)"
   ]
  },
  {
   "cell_type": "markdown",
   "metadata": {
    "id": "nz2grbprHa3B"
   },
   "source": [
    "**The Second Quartile:** The second quartile is the point that partitions the data in two equal parts. This means that 50% of the data are less than or equal to the second quartile and 50% of the observations are greater than or equal to the second quartile. The second quartile is the same as the 50th percentile or median.\n"
   ]
  },
  {
   "cell_type": "code",
   "execution_count": null,
   "metadata": {
    "id": "2aFQ6K2CHa3B",
    "outputId": "a6087d3f-010a-4c9f-a906-54e09df0aa76"
   },
   "outputs": [],
   "source": [
    "# the second quartile\n",
    "df_sales.quantile(0.5)"
   ]
  },
  {
   "cell_type": "markdown",
   "metadata": {
    "id": "avvVq80xHa3B"
   },
   "source": [
    "**The Third Quartile:** The third quartile is the point that partitions the data in 75-25 ratio. This means that 75% of the data are less than or equal to the third quartile and 25% of the observations are greater than or equal to the third quartile. The third quartile is called the 75th percentile.\n",
    "\n"
   ]
  },
  {
   "cell_type": "code",
   "execution_count": null,
   "metadata": {
    "id": "LD_3RGN0Ha3B",
    "outputId": "e136a5cd-3b90-4978-a961-62ebd266304e"
   },
   "outputs": [],
   "source": [
    "# the third quartile\n",
    "df_sales.quantile(0.75)"
   ]
  },
  {
   "cell_type": "markdown",
   "metadata": {
    "id": "prZkKVQwHa3B"
   },
   "source": [
    "**Now let us plot the three quartiles for the variable `Item_Outlet_Sales` in the data.**"
   ]
  },
  {
   "cell_type": "code",
   "execution_count": null,
   "metadata": {
    "id": "Fq_dINxFHa3B",
    "outputId": "4d5101fc-93e2-4210-bc6c-7a881cbee2f3"
   },
   "outputs": [],
   "source": [
    "# import the library matplotlib.pyplot \n",
    "import matplotlib.pyplot as plt\n",
    "\n",
    "# using the below code line, matplotlib graphs are included in the python notebook\n",
    "%matplotlib inline\n",
    "\n",
    "# set the plot size\n",
    "plt.rcParams[\"figure.figsize\"] = [15,5]\n",
    "\n",
    "# compute the quartiles\n",
    "q1 = df_sales.Item_Outlet_Sales.quantile(q=0.25)   # compute the first quartile\n",
    "q2 = df_sales.Item_Outlet_Sales.quantile(q=0.50)   # compute the second quartile\n",
    "q3 = df_sales.Item_Outlet_Sales.quantile(q=0.75)   # compute the third quartile\n",
    "\n",
    "# plot the density plot the density plot\n",
    "df_sales.Item_Outlet_Sales.plot(kind='density') \n",
    "\n",
    "# to plot the quartile lines\n",
    "# plt.axvline(): plots a line perpendicular to the X-axis at specified location on X-axis\n",
    "# x: location on X-axis at which the line is to be plotted\n",
    "# ymax: specify the height of the line\n",
    "# color: color of the line\n",
    "# linestyle: specify the style of the line \n",
    "# label: the name of the line. This name is displayed in the legend\n",
    "plt.axvline(x = q1, ymax=0.92, color='red', linestyle='--', label =\"First Quartile\")     # plot the first quartile\n",
    "plt.axvline(x = q2, ymax=0.79, color='blue', linestyle='--', label =\"Second Quartile\")   # plot the second quartile\n",
    "plt.axvline(x = q3, ymax=0.53, color='green', linestyle='--', label =\"Third Quartile\")   # plot the third quartile\n",
    "\n",
    "# to display the legend using plt.legend()\n",
    "# loc: specify the location of the legend\n",
    "# fontsize: set the font size of the legends\n",
    "plt.legend(loc=\"best\", fontsize= 15)\n",
    "\n",
    "# to display the plot title using plt.title()\n",
    "# fontsize: set the font size of the title\n",
    "plt.title(\"The outlet sales\", fontsize = 20)\n",
    "\n",
    "# to label the X-axis using plt.xlabel()\n",
    "# fontsize: set the font size of the label\n",
    "plt.xlabel(\"Item_Outlet_Sales\", fontsize = 15)\n",
    "\n",
    "# to label the Y-axis\n",
    "# fontsize: set the font size of the label\n",
    "plt.ylabel(\"Density\", fontsize = 15)\n",
    "\n",
    "\n",
    "# label the X-axis at the points where we draw the perpendicular lines using plt.xticks()\n",
    "# locs: specify the location on X-axis\n",
    "# labels: specify the labels on X-axis\n",
    "# fontsize: set the font size of the ticks\n",
    "locs,labels = [q1,q2,q3],[\"Q1\",\"Q2\",\"Q3\"]           # get locations and labels\n",
    "plt.xticks(locs, labels, fontsize = 15 )            # set locations and labels\n",
    "\n",
    "# to display the figure\n",
    "plt.show()"
   ]
  },
  {
   "cell_type": "markdown",
   "metadata": {
    "id": "ZRSuQt2pHa3B"
   },
   "source": [
    "Similarly, you can draw a plot for other numeric variables in the data."
   ]
  },
  {
   "cell_type": "markdown",
   "metadata": {
    "id": "_CKWsWclHa3B"
   },
   "source": [
    "**2. Percentiles:**\n",
    "\n",
    "Percentiles are the data points which partitions the data into 100 equal parts. So, there are 99 percentiles.\n",
    "\n",
    "The $25^{th}$ percentile is the same as the $1^{st}$ quartile.<br>\n",
    "The $50^{th}$ percentile is the same as the $2^{nd}$ quartile which is the median.<br>\n",
    "The $75^{th}$ percentile is the same as the $3^{rd}$ quartile.<br>"
   ]
  },
  {
   "cell_type": "markdown",
   "metadata": {
    "id": "imxw7v45Ha3B"
   },
   "source": [
    "Let us find the $10^{th}$ percentiles for the numeric variables in the data."
   ]
  },
  {
   "cell_type": "code",
   "execution_count": null,
   "metadata": {
    "id": "54WFrumRHa3B",
    "outputId": "d8864ba6-82e0-46fc-d89b-b1ec39324d2b",
    "scrolled": true
   },
   "outputs": [],
   "source": [
    "# obtain the 10th percentile\n",
    "df_sales.quantile(0.10)"
   ]
  },
  {
   "cell_type": "markdown",
   "metadata": {
    "id": "5JLmimA3Ha3B"
   },
   "source": [
    "**Interpretation:** The $10^{th}$ percentile partitions the data such that 10% of the data is less than or equal to it and 90% of the data is greater than or equal to it."
   ]
  },
  {
   "cell_type": "markdown",
   "metadata": {
    "id": "H_j3xeXhHa3B"
   },
   "source": [
    "Let us find the $45^{th}$ percentiles for all the numeric variables in the data."
   ]
  },
  {
   "cell_type": "code",
   "execution_count": null,
   "metadata": {
    "id": "EkckzjBRHa3B",
    "outputId": "57e46a49-dca0-49f3-d0d3-f4f9148d1b7b"
   },
   "outputs": [],
   "source": [
    "# obtain the 45th percentile\n",
    "df_sales.quantile(0.45)"
   ]
  },
  {
   "cell_type": "markdown",
   "metadata": {
    "id": "-gsY3NFgHa3B"
   },
   "source": [
    "**Interpretation:** The $45^{th}$ percentile partitions the data such that 45% of the data is less than or equal to it and 55% of the greater than or equal to this observation."
   ]
  },
  {
   "cell_type": "markdown",
   "metadata": {
    "id": "7wjWWuJ4Ha3B"
   },
   "source": [
    "**Remark:** The partition values are not necessarily equispaced."
   ]
  },
  {
   "cell_type": "markdown",
   "metadata": {
    "id": "CzqQ-cCIHa3B"
   },
   "source": [
    "<a id=\"dispersion\"> </a>\n",
    "## 4 Measure of Dispersion\n",
    "<br>\n",
    "<b><ul>\n",
    "  <li>The measure of dispersion indicates the variability within a set of measures</li>\n",
    "  <li>Less variability implies more data is closer to the central observations. More variability implies more data is spread further away from the center\n",
    "</li>\n",
    "  <li>The most popular variability measures are the range, interquartile range (IQR), variance, and standard deviation\n",
    "</li>\n",
    "</ul> </b> "
   ]
  },
  {
   "cell_type": "markdown",
   "metadata": {
    "id": "YyOfaxcTHa3B"
   },
   "source": [
    "<a id=\"range\"> </a>\n",
    "### 4.1 Range\n",
    "<ul>\n",
    "  <li>The range represents the difference between the largest and the smallest points in the data</li>\n",
    "    <li>In spite of being very easy to define and calculate, it is not a reliable measure</li>\n",
    "    <li>It is highly affected by extreme values</li>\n",
    "</ul>  \n"
   ]
  },
  {
   "cell_type": "markdown",
   "metadata": {
    "id": "sCzDzXoTHa3B"
   },
   "source": [
    "Let us define a function to find range."
   ]
  },
  {
   "cell_type": "code",
   "execution_count": null,
   "metadata": {
    "id": "RSmQMXX5Ha3B"
   },
   "outputs": [],
   "source": [
    "def range_obs(data):\n",
    "    r = data.max()-data.min()\n",
    "    return(r)"
   ]
  },
  {
   "cell_type": "markdown",
   "metadata": {
    "id": "ri0Q3kfrHa3B"
   },
   "source": [
    "**Remark:** We can not name the function as `range`, since the `range()` already exists"
   ]
  },
  {
   "cell_type": "markdown",
   "metadata": {
    "id": "HZzb5st2Ha3B"
   },
   "source": [
    "We shall now consider a few examples"
   ]
  },
  {
   "cell_type": "code",
   "execution_count": null,
   "metadata": {
    "id": "0WJS8hzWHa3B",
    "outputId": "11e2d0a1-04fe-41e1-bb9d-c980aec4ed3e"
   },
   "outputs": [],
   "source": [
    "quantity_1 = pd.Series([2,4,6,8,10])\n",
    "range_obs(quantity_1)"
   ]
  },
  {
   "cell_type": "code",
   "execution_count": null,
   "metadata": {
    "id": "FJHSK1zPHa3B",
    "outputId": "973724e0-a06d-4991-b163-3c7f43fed922"
   },
   "outputs": [],
   "source": [
    "quantity_2 = pd.Series([2,3,6,9,10])\n",
    "range_obs(quantity_2)"
   ]
  },
  {
   "cell_type": "code",
   "execution_count": null,
   "metadata": {
    "id": "DGEWu7HfHa3C",
    "outputId": "fde4f815-7c04-45ce-abcd-85c426d422dc",
    "scrolled": true
   },
   "outputs": [],
   "source": [
    "quantity_3 = pd.Series([2,10])\n",
    "range_obs(quantity_3)"
   ]
  },
  {
   "cell_type": "code",
   "execution_count": null,
   "metadata": {
    "id": "QAJEno1GHa3C",
    "outputId": "e52a18fd-d119-489b-f005-86f90601752b"
   },
   "outputs": [],
   "source": [
    "quantity_4 = pd.Series([102,106,110])\n",
    "range_obs(quantity_4)"
   ]
  },
  {
   "cell_type": "markdown",
   "metadata": {
    "id": "R5_yJIdbHa3C"
   },
   "source": [
    "**Interpretation:** It is apparent from the above results that the range value is invariant of the number of observations and their magnitude."
   ]
  },
  {
   "cell_type": "markdown",
   "metadata": {
    "id": "_I7ShpXfHa3C"
   },
   "source": [
    "However, we will obtain the range metric for the numeric variables in our dataset `k-circlesaless`."
   ]
  },
  {
   "cell_type": "code",
   "execution_count": null,
   "metadata": {
    "id": "m6UR7C5BHa3C",
    "outputId": "ef23bb6d-d7a6-4163-88be-66c93c1e9943"
   },
   "outputs": [],
   "source": [
    "# filter the numeric variables from the data\n",
    "df_num = df_sales.select_dtypes(include = np.number)\n",
    "\n",
    "# find the range\n",
    "print(df_num.max()-df_num.min())"
   ]
  },
  {
   "cell_type": "markdown",
   "metadata": {
    "id": "QTEdn6HcHa3C"
   },
   "source": [
    "**Interpretation:** The range for the variable `Item_Visibility ` is very small, we may conclude that the dispersion is also less. <br>\n",
    "For the variable `Item_Outlet_Sales`, the range is 13053.67. We may say that there are outliers present which affect the range value.<br>\n",
    "However, it is not wise to compare variation in variables having different units because they vary in their respective units and the means about which they occur. \n"
   ]
  },
  {
   "cell_type": "markdown",
   "metadata": {
    "id": "AMitNMWfHa3C"
   },
   "source": [
    "<a id=\"variance\"> </a>\n",
    "### 4.2 Variance\n",
    "<ul>\n",
    "  <li>Variance measure the dispersion of the data from the mean</li>\n",
    "  <li>It is an average of the sum of squares of difference between an observation and the mean. Thus the variance is always positive</li>\n",
    "    <li>The variance is based on all the observations</li>\n",
    "</ul>"
   ]
  },
  {
   "cell_type": "markdown",
   "metadata": {
    "id": "-nDM1xUqHa3C"
   },
   "source": [
    "We shall now consider a few examples. We take the same observations we took to demonstrate range."
   ]
  },
  {
   "cell_type": "code",
   "execution_count": null,
   "metadata": {
    "id": "V3jbpuFZHa3C",
    "outputId": "03d95a8a-47db-4cf1-c89e-d4df7d63b425"
   },
   "outputs": [],
   "source": [
    "quantity_1 = pd.Series([2,4,6,8,10])\n",
    "quantity_1.var()"
   ]
  },
  {
   "cell_type": "code",
   "execution_count": null,
   "metadata": {
    "id": "DlKQuyuHHa3C",
    "outputId": "b9b43f08-6379-471b-a66e-3d82188bb974"
   },
   "outputs": [],
   "source": [
    "quantity_2 = pd.Series([2,3,6,9,10])\n",
    "quantity_2.var()"
   ]
  },
  {
   "cell_type": "code",
   "execution_count": null,
   "metadata": {
    "id": "q74MwM0lHa3C",
    "outputId": "8eafe44b-c353-4846-8f2e-eaed74c817e0"
   },
   "outputs": [],
   "source": [
    "quantity_3 = pd.Series([2,10])\n",
    "quantity_3.var()"
   ]
  },
  {
   "cell_type": "markdown",
   "metadata": {
    "id": "fakpr7JwHa3C"
   },
   "source": [
    "**Interpretation:** The range for all the three series is 8. However, the variance values are different. It is a better measure of variability than range. It tells how spread the data is. It is seen that the series `quantity_1` has the least variance. <br>"
   ]
  },
  {
   "cell_type": "markdown",
   "metadata": {
    "id": "DKVZezVuHa3C"
   },
   "source": [
    "**Now we will see a variance of the dataset**"
   ]
  },
  {
   "cell_type": "code",
   "execution_count": null,
   "metadata": {
    "id": "tvKTSbSlHa3C",
    "outputId": "c93ed304-6ffa-4735-dac0-6d627723506d"
   },
   "outputs": [],
   "source": [
    "# calculate the variance\n",
    "var = df_sales.var()\n",
    "\n",
    "# rounding off the values upto 3 decimals\n",
    "round(var, 3)"
   ]
  },
  {
   "cell_type": "markdown",
   "metadata": {
    "id": "hNRbF-UiHa3C"
   },
   "source": [
    "**Interpretation:** The variance indicates how much is the data varying from the mean. The output suggests that the variable `Item_Visibility` has the least variance and the variable `Item_Outlet_Sales` has the maximum variance.<br>\n",
    "However, it is not sensible to compare variation in variables having different units because they vary in their respective units and the means about which they occur.\n",
    "<br><br>We know that the variance is the sum of squares of the difference, so <em>the unit of variance is the squared unit of the observations</em>. Hence it is viable to take the square root of the variance to get an answer back in the original unit of measurement."
   ]
  },
  {
   "cell_type": "markdown",
   "metadata": {
    "id": "TBEXBHKiHa3C"
   },
   "source": [
    "<a id=\"std\"> </a>\n",
    "### 4.3 Standard Deviation\n",
    "\n",
    "<ol>\n",
    "    <li> Standard deviation is the positive square root of the variance </li>\n",
    "    <li> It has the same unit as that of the observations</li>\n",
    "    <li> Like variance, it also measures the variability of the observations from the mean </li>\n",
    "    </ol>"
   ]
  },
  {
   "cell_type": "code",
   "execution_count": null,
   "metadata": {
    "id": "f4hhyt7ZHa3C",
    "outputId": "9b170023-df0d-4a52-8131-6dd90d4322d1"
   },
   "outputs": [],
   "source": [
    "# calculate the standard deviation\n",
    "print(df_sales.std())\n",
    "print(df_sales.var())"
   ]
  },
  {
   "cell_type": "markdown",
   "metadata": {
    "id": "5ArWeN86Ha3C"
   },
   "source": [
    "**Interpretation:** We can see that the variable 'Item_Visibility' has a standard deviation near to zero. It indicates that there is not much variability. Thus this variable does not add much value to the analysis and can be further removed from the study. <br>\n",
    "However, it is not sensible to compare variation in variables having different units because they vary in their respective units and the means about which they occur."
   ]
  },
  {
   "cell_type": "markdown",
   "metadata": {
    "id": "J23t_Qf2Ha3C"
   },
   "source": [
    "<a id=\"cv\"> </a>\n",
    "### 4.4 Coefficient of Variation\n",
    "<ul>\n",
    "    <li>The coefficient of variation is a statistical measure of dispersion of data points around the mean</li>\n",
    "    <li>It is a unit free measure and is always expressed in percentage</li>\n",
    "    <li>We compare the coefficient of variation in order to decide which of the two sets of observations has more spread</li>\n",
    "    </ul>"
   ]
  },
  {
   "cell_type": "markdown",
   "metadata": {
    "id": "PgwZbhFoHa3C"
   },
   "source": [
    "**Consider the following scenario: <br><br>\n",
    "The regional swimming tournament is going to commence next month. The school has to form a team. The performance scores for five swimmers from their last five competitions are known. Based on these scores, determine which two swimmers should be on the team? (The scores are measured out of 10)**"
   ]
  },
  {
   "cell_type": "markdown",
   "metadata": {
    "id": "esWoPhjfHa3C"
   },
   "source": [
    "<table>\n",
    "  <tr>\n",
    "    <th>Swimmer</th>\n",
    "    <th colspan=\"5\" >Scores of previous competitions</th>\n",
    "  </tr>\n",
    "  <tr>\n",
    "    <td>Anne</td>\n",
    "    <td>4.5</td>\n",
    "    <td>8.8</td>\n",
    "    <td>8.9</td>\n",
    "    <td>9.2</td>\n",
    "    <td>8.1</td>     \n",
    "  </tr>\n",
    "  <tr>\n",
    "    <td>John</td>\n",
    "    <td>5.5</td>\n",
    "    <td>9.7</td>\n",
    "    <td>8.8</td>\n",
    "    <td>6.4</td>\n",
    "    <td>7.5</td>     \n",
    "  </tr>\n",
    "  <tr>\n",
    "    <td>Sarah</td>\n",
    "    <td>8.5</td>\n",
    "    <td>7.5</td>\n",
    "    <td>7.9</td>\n",
    "    <td>8.8</td>\n",
    "    <td>9.1</td>     \n",
    "  </tr>\n",
    "  <tr>\n",
    "    <td>Steve</td>\n",
    "    <td>9.2</td>\n",
    "    <td>8.8</td>\n",
    "    <td>9.5</td>\n",
    "    <td>9.2</td>\n",
    "    <td>8.9</td>     \n",
    "  </tr>\n",
    "  <tr>\n",
    "    <td>Sam</td>\n",
    "    <td>4.5</td>\n",
    "    <td>9.0</td>\n",
    "    <td>8.9</td>\n",
    "    <td>5.2</td>\n",
    "    <td>7.1</td>     \n",
    "  </tr>  \n",
    "</table>"
   ]
  },
  {
   "cell_type": "code",
   "execution_count": null,
   "metadata": {
    "id": "3ntREnZkHa3C"
   },
   "outputs": [],
   "source": [
    "# create series of the scores for all the five swimmers\n",
    "swimmer_anne = pd.Series([6.5, 8.8, 8.9, 9.2, 8.1]) \n",
    "swimmer_john = pd.Series([5.5, 9.7, 8.8, 6.4, 7.5]) \n",
    "swimmer_sarah = pd.Series([8.5, 7.5, 7.9, 8.8, 9.1]) \n",
    "swimmer_steve = pd.Series([9.2, 8.8, 9.5, 9.2, 8.9]) \n",
    "swimmer_sam = pd.Series([4.5, 5.0, 5.9, 5.2, 5.1]) "
   ]
  },
  {
   "cell_type": "code",
   "execution_count": null,
   "metadata": {
    "id": "qBMPQnc0Ha3C",
    "outputId": "e9c67f86-4167-43fe-b5bd-3aefc6d35e4e"
   },
   "outputs": [],
   "source": [
    "# obtain coefficient of variation for Anne's scores\n",
    "print(\"The coefficient of variation for Anne is: \",scipy.stats.variation(swimmer_anne))   \n",
    "\n",
    "# obtain coefficient of variation for John's scores\n",
    "print(\"The coefficient of variation. for John is: \",scipy.stats.variation(swimmer_john))  \n",
    "\n",
    "# obtain coefficient of variation for Sarah's scores\n",
    "print(\"The coefficient of variation for Sarah is: \",scipy.stats.variation(swimmer_sarah))\n",
    "\n",
    "# obtain coefficient of variation for Steve's scores\n",
    "print(\"The coefficient of variation for Steve is: \",scipy.stats.variation(swimmer_steve)) \n",
    "\n",
    "# obtain coefficient of variation for Sam's scores\n",
    "print(\"The coefficient of variation for Sam is: \",scipy.stats.variation(swimmer_sam))       "
   ]
  },
  {
   "cell_type": "markdown",
   "metadata": {
    "id": "BglAzcYmHa3C"
   },
   "source": [
    "**Interpretation:** The coefficient of variation tells the measure of dispersion of data points around the mean. Lesser coefficient of variation, the better the data is. <br>On comparing the coefficient of variation of all the swimmers, it is apparent Sarah and Steve have the least variation. This means that their scores are consistently good. Thus, Sarah and Steve should be on the team."
   ]
  },
  {
   "cell_type": "markdown",
   "metadata": {
    "id": "kYalU1RjHa3C"
   },
   "source": [
    "Let us get the coefficient of variation for the numeric variables in our data."
   ]
  },
  {
   "cell_type": "code",
   "execution_count": null,
   "metadata": {
    "id": "eYEiY_dFHa3C",
    "outputId": "7d8feda8-4e1f-49a7-f1b2-50bb61145065"
   },
   "outputs": [],
   "source": [
    "# importing variation from scipy.stats \n",
    "from scipy.stats import variation  \n",
    " \n",
    "for i in df_num.columns:\n",
    "    print(i,\":\", scipy.stats.variation(df_sales[i],nan_policy='omit'))"
   ]
  },
  {
   "cell_type": "markdown",
   "metadata": {
    "id": "jSNSF-anHa3C"
   },
   "source": [
    "**Interpretation:** The coefficient of variation is used to compare two or more samples. This output is not meaningful since we can not compare any of the variable with each other to get insights."
   ]
  },
  {
   "cell_type": "markdown",
   "metadata": {
    "collapsed": true,
    "id": "yHMFLEOUHa3C"
   },
   "source": [
    "<a id=\"iqr\"> </a>\n",
    "### 4.5 Interquartile Range (IQR)\n",
    "<ul>\n",
    "    <li>The interquartile range is another useful measure of spread based on the quartiles</li>\n",
    "    <li>It is the difference between the third quartile and the first quartile</li>\n",
    "    <li>The IQR gives the range of middle 50% of the data</li>\n",
    "    <li> It also helps in identifying the outliers\n",
    "    </ul>"
   ]
  },
  {
   "cell_type": "code",
   "execution_count": null,
   "metadata": {
    "id": "4jx2MLfDHa3C",
    "outputId": "f7ad36df-f960-4226-e737-95011d33e1c4",
    "scrolled": true
   },
   "outputs": [],
   "source": [
    "# filter the numeric variables from the data\n",
    "df_num = df_sales.select_dtypes(include = np.number)\n",
    "\n",
    "# find the range\n",
    "print(df_num.quantile(0.75)-df_num.quantile(0.25))"
   ]
  },
  {
   "cell_type": "markdown",
   "metadata": {
    "id": "b8BQ3_JpHa3D"
   },
   "source": [
    "**Interpretation:** The IQR gives the range in which the middle 50% of the data lies. The smaller the range is, lesser is the dispersion."
   ]
  },
  {
   "cell_type": "markdown",
   "metadata": {
    "id": "s3Tp3UrpHa3D"
   },
   "source": [
    "<a id=\"distribution\"> </a>\n",
    "## 5. Distribution of the data\n",
    "\n",
    "<ul>\n",
    "    <li>The distribution is a summary of the frequency of values taken by a variable</li>\n",
    "    <li>The distribution of the data gives information on the shape and spread of the data</li>\n",
    "    <li>On plotting the histogram or a frequency curve for a variable, we are  actually looking at how the data is distributed over its range</li> \n"
   ]
  },
  {
   "cell_type": "code",
   "execution_count": null,
   "metadata": {
    "id": "6I-oaWfhHa3D",
    "outputId": "3df41fbb-15cc-41c5-edcb-be9340948d8d",
    "scrolled": false
   },
   "outputs": [],
   "source": [
    "# set plot size\n",
    "plt.rcParams[\"figure.figsize\"] = [15,10]\n",
    "\n",
    "# plot density plot using plot()\n",
    "# kind: set the type of plot\n",
    "# subplots: indicates whether to plot subplot for each variable or a single line plot\n",
    "# layout: specify the arrangement of the subplots\n",
    "# sharex: indicates whether to have the same scale on x-axis of all subplots\n",
    "df_sales.plot(kind = 'density', subplots = True, layout = (3,3), sharex = False)\n",
    "\n",
    "# show plot\n",
    "plt.show()"
   ]
  },
  {
   "cell_type": "code",
   "execution_count": null,
   "metadata": {
    "id": "j-Wyla8VHa3D",
    "outputId": "e6790340-8c8f-4918-a7ed-41fc836a7a09",
    "scrolled": true
   },
   "outputs": [],
   "source": [
    "# import the seaborn library\n",
    "import seaborn as sns\n",
    "\n",
    "# initiate the plot\n",
    "# plot 6 subplots in 2 rows and columns\n",
    "# figsize: set figure size\n",
    "fig, ax = plt.subplots(2, 3, figsize=(15, 10))\n",
    "\n",
    "# plot a count plot for categorical variables in the data\n",
    "# use a for loop to plot the count plot for the categoric variable\n",
    "for variable, subplot in zip(df_cat.columns[1:], ax.flatten()):     \n",
    "    z = sns.countplot(df_sales[variable], ax=subplot)                 # plot the count plot\n",
    "    z.set_xticklabels(z.get_xticklabels(),rotation=\"90\")              # rotate the on x-axis labels\n",
    "    z.set_xlabel(variable, fontsize = 15)                             # set the size of x-axis labels\n",
    "    \n",
    "\n",
    "# tight_layout() adjusts subplot parameters to give specified padding\n",
    "# pad specifies the padding (space) between the edges of subplots\n",
    "plt.tight_layout(pad=4.0)\n",
    "\n",
    "# display the plot    \n",
    "plt.show()"
   ]
  },
  {
   "cell_type": "markdown",
   "metadata": {
    "id": "0vZWmruiHa3D"
   },
   "source": [
    "**Interpretation:** The above output gives the distribution of variables in the data. Notice the differences in scales for each of the variables. <br> \n",
    "We have not plotted a count plot for `Item_Identifier` since there are 1559 categories.<br><br>\n",
    "To infer more on the distribution of the data we must study the shape of the data. The next section deals with the skewness and kurtosis of the data"
   ]
  },
  {
   "cell_type": "markdown",
   "metadata": {
    "id": "rUlj9N1sHa3D"
   },
   "source": [
    "<a id=\"shape\"> </a>\n",
    "## 6 Shape of the data"
   ]
  },
  {
   "cell_type": "markdown",
   "metadata": {
    "id": "NHXFAGzqHa3D"
   },
   "source": [
    "<a id=\"skewness\"> </a>\n",
    "### 6.1 Skewness\n",
    "<ul>\n",
    "  <li>Skewness helps us to study the shape of the data.</li>\n",
    "  <li>It represents how much a distribution differs from a normal distribution, either to the left or to the right.</li>\n",
    "    <li>The value of the skewness can be either positive, negative or zero.</li>\n",
    "</ul>  "
   ]
  },
  {
   "cell_type": "code",
   "execution_count": null,
   "metadata": {
    "id": "UShzRj-WHa3D",
    "outputId": "77e01c70-35f4-46d2-b04d-bd2f51fe9cb7",
    "scrolled": true
   },
   "outputs": [],
   "source": [
    "# use skew() to calculate the skewness\n",
    "skew = df_sales.skew()\n",
    "\n",
    "# print the skewness\n",
    "print(skew)"
   ]
  },
  {
   "cell_type": "markdown",
   "metadata": {
    "id": "6vqzUSBqHa3D"
   },
   "source": [
    "**Interpretation:** The above value represents that the variable `Item_Visibility` and `Item_Outlet_Sales` are highly positively skewed.<br>The variables `Item_Weight` and `Item_MRP` are near normal. <br>The variable `Profit` has negative skewness. <br>\n",
    "**Note:** It is advisable to check the distribution plot before making any conclusion.                    "
   ]
  },
  {
   "cell_type": "markdown",
   "metadata": {
    "id": "axZJGvW1Ha3D"
   },
   "source": [
    "<a id=\"kurtosis\"> </a>\n",
    "### 6.2 Kurtosis\n",
    "<ul>\n",
    "    <li> Kurtosis measures the peakedness of the distribution</li>\n",
    "   <li>In other words, kurtosis is a statistical measure that defines how the tails of the distribution differ from the normal distribution</li>\n",
    "       <li>Kurtosis identifies whether the tails of a given distribution contain extreme values</li>\n",
    "</ul>  \n",
    "\n",
    "To find the kurtosis of the data, we find use the function `kurt()`"
   ]
  },
  {
   "cell_type": "code",
   "execution_count": null,
   "metadata": {
    "id": "sEiahBe4Ha3D",
    "outputId": "c74f6cb1-b57e-4e86-da60-f414f340e21e"
   },
   "outputs": [],
   "source": [
    "# use kurt() to calculate the kurtosis\n",
    "df_sales.kurt()"
   ]
  },
  {
   "cell_type": "markdown",
   "metadata": {
    "id": "63w1kOerHa3D"
   },
   "source": [
    "**Interpretation:** The above output represents that the variables `Item_MRP`  and `Outlet_Establishment_Year` are platykurtic.<br>\n",
    "The variables `Item_Weight` are near normal.<br>\n",
    "The variable `Profit` is leptokurtic.<br>\n",
    "**Note:** It is advisable to check the distribution plot before making any conclusion. "
   ]
  },
  {
   "cell_type": "markdown",
   "metadata": {
    "id": "SwBCRijdHa3D"
   },
   "source": [
    "## Let us plot the mean, median and mode for skewed distributions\n",
    "\n",
    "We define a function histogram as per our requirement."
   ]
  },
  {
   "cell_type": "code",
   "execution_count": null,
   "metadata": {
    "id": "crUi7kutHa3D"
   },
   "outputs": [],
   "source": [
    "def histogram(var):\n",
    "    plt.rcParams[\"figure.figsize\"] = [15,5]         # set the figure size\n",
    "    var.hist(color=\"steelblue\", grid=False)         # plot histogram\n",
    "    mu = var.mean()                                 # calculate the mean\n",
    "    mo = var.mode()                                 # calculate the mode\n",
    "    me = var.median()                               # calculate the median\n",
    "    \n",
    "    # plot the lines for mean, median, and mode\n",
    "    # use the function axvline()\n",
    "    # x: the point at which the line is to be plotted\n",
    "    # color: color of the line \n",
    "    # linestyle: specify the style of the line \n",
    "    # label: the name of the line. This name is displayed in the legend\n",
    "    plt.axvline(x = mu, color='red',linestyle='--',label=\"mean\")\n",
    "    plt.axvline(x = me, color='orange',linestyle='--',label=\"median\")\n",
    "    plt.axvline(x = mo[0], color='black',linestyle='--',label=\"mode\")  # consider first mode (for multimodal distributions)\n",
    "   \n",
    "    # print the legend of the data    \n",
    "    plt.legend(prop={'size': 20}) "
   ]
  },
  {
   "cell_type": "code",
   "execution_count": null,
   "metadata": {
    "id": "VAgzX4_7Ha3D",
    "outputId": "ec09b7c6-9c52-43e2-e1fa-82d2c55daf5e",
    "scrolled": false
   },
   "outputs": [],
   "source": [
    "# import the required libraries \n",
    "from matplotlib import gridspec\n",
    "\n",
    "# set the plot size\n",
    "plt.rcParams[\"figure.figsize\"] = [25,10]\n",
    "\n",
    "# specify the geometry of the grid that a subplot is placed in\n",
    "# split the plot into 2 rows and 3 columns\n",
    "gs = gridspec.GridSpec(2, 3, width_ratios=[2.5, 2.5, 2.5], height_ratios=[0.20,0.01])\n",
    "\n",
    "# to draw the plots\n",
    "\n",
    "# step 1: specify the plot location by calling 'gs' initiated above \n",
    "# step 2: plot the histogram by calling the above histogram function\n",
    "# step 3: specify the plot title by set_title()\n",
    "#         fontsize: set the font size of the title\n",
    "\n",
    "\n",
    "# plot in 1st row and 1st column\n",
    "a1 = plt.subplot(gs[0,0])             \n",
    "a1.set_title(\"Negatively Skewed Distribution\", fontsize = 25)   \n",
    "histogram(df_sales['Profit'])       \n",
    "plt.xlabel(\"Profit\",fontsize=15)                                \n",
    "\n",
    "\n",
    "# plot in 1st row and 2nd column\n",
    "b1 = plt.subplot(gs[0,1])\n",
    "b1.set_title(\"Not Skewed Distribution\", fontsize = 25)\n",
    "histogram(df_sales['Item_MRP'])       \n",
    "plt.xlabel(\"Item_MRP\",fontsize=15) \n",
    "\n",
    "\n",
    "# plot in 1st row and 3rd column\n",
    "\n",
    "# specify the plot location by calling 'gs' initiated above \n",
    "c1 = plt.subplot(gs[0,2])\n",
    "c1.set_title(\"Positively Skewed Distribution\", fontsize = 25)\n",
    "histogram(df_sales['Item_Outlet_Sales'])       \n",
    "plt.xlabel(\"Item_Outlet_Sales\",fontsize=15) \n",
    "\n",
    "\n",
    "# to display the text\n",
    "\n",
    "# step 1: specify the plot location by calling 'gs' initiated above \n",
    "# step 2: write the text in the plot using text()\n",
    "#         x: location on x-axis where the text the is to be written\n",
    "#         y: location on y-axis where the text the is to be written\n",
    "#         s: text to be written \n",
    "#         fontsize: set the font size\n",
    "# step 3: use .axis('off') to hide the x and y axes\n",
    "# \n",
    "\n",
    "# plot in 2nd row and 1st column\n",
    "a2 = plt.subplot(gs[1, 0])                                      \n",
    "a2.text(x = 0.1, y = 0.3, s=\"mean < median < mode\", fontsize=25)  \n",
    "a2.axis('off')\n",
    "\n",
    "# plot in 2nd row and 2nd column\n",
    "b2 = plt.subplot(gs[1, 1]) \n",
    "b2.text(x = 0.1, y = 0.3, s=\"mean = median = mode\" , fontsize=25)\n",
    "b2.axis('off')\n",
    "\n",
    "# plot in 2nd row and 3rd column \n",
    "c2 = plt.subplot(gs[1, 2])\n",
    "c2.text(0.1, 0.3, s=\"mean > median > mode\", fontsize=25)\n",
    "c2.axis('off')\n",
    "\n",
    "# to display the plot\n",
    "plt.show()"
   ]
  },
  {
   "cell_type": "markdown",
   "metadata": {
    "id": "2XkGcozGHa3D"
   },
   "source": [
    "**Interpretation:** We verified the facts:\n",
    "                        <ol>\n",
    "                            <li> For a negatively skewed distribution, $mean < median < mode$ </li>\n",
    "                            <li> For a distribution with no skewness, $mean = median = mode$ (approximately) </li>\n",
    "                            <li> For a positively skewed distribution, $mean > median > mode$ </li>\n",
    "                        </ol>\n",
    "                   "
   ]
  },
  {
   "cell_type": "markdown",
   "metadata": {
    "id": "N48PVnhXHa3D"
   },
   "source": [
    "#### We shall see how a boxplot looks for skewed distributions."
   ]
  },
  {
   "cell_type": "markdown",
   "metadata": {
    "id": "qyD72Xt4Ha3D"
   },
   "source": [
    "<a id=\"boxplot\"> </a>\n",
    "### Box-plot\n"
   ]
  },
  {
   "cell_type": "markdown",
   "metadata": {
    "id": "NVQlJLpUHa3D"
   },
   "source": [
    "\n",
    "<img src=\"Boxplot.png\">"
   ]
  },
  {
   "cell_type": "markdown",
   "metadata": {
    "id": "Dt2cGOxMHa3D"
   },
   "source": [
    "The box of the above boxplot gives middle 50% of the data. It is the IQR. The line in the box represents the median.\n",
    "\n",
    "Now with the help of a distribution plot, boxplot, and the summary statistics of a variable let us understand the data."
   ]
  },
  {
   "cell_type": "code",
   "execution_count": null,
   "metadata": {
    "colab": {
     "base_uri": "https://localhost:8080/",
     "height": 235
    },
    "executionInfo": {
     "elapsed": 3263,
     "status": "error",
     "timestamp": 1605665451906,
     "user": {
      "displayName": "Mallikarjuna Doddamane",
      "photoUrl": "https://lh3.googleusercontent.com/a-/AOh14GjOdnL6KUzzQMPHfk6as2xRMsOSbJoBMF9oJSaK=s64",
      "userId": "11697854241316775674"
     },
     "user_tz": -330
    },
    "id": "f3Q1c8_THa3D",
    "outputId": "1dcf1aac-7e0d-4b41-ef92-79e43e7ef378"
   },
   "outputs": [],
   "source": [
    "# import the required libraries \n",
    "\n",
    "import seaborn as sns\n",
    "\n",
    "# set the plot size\n",
    "plt.rcParams[\"figure.figsize\"] = [20,15]\n",
    "\n",
    "# divides the plot into the specified number of subplots \n",
    "gs = gridspec.GridSpec(3, 3, width_ratios=[2.5, 2.5, 2.5], height_ratios=[.20, .10, .15])\n",
    "  \n",
    "# DISTRIBUTION PLOT\n",
    "# step 1: specify the location of the plot\n",
    "# step 2: specify the title of the plot\n",
    "# step 3: plot a distribution plot\n",
    "# step 4: if required set the scale of X-axis\n",
    "\n",
    "# for the variable Profit\n",
    "a1 = plt.subplot(gs[0, 0])\n",
    "a1.set_title(\"Negatively Skewed\", fontsize=15)\n",
    "a1= sns.distplot(df_sales.Profit)\n",
    "\n",
    "\n",
    "# for the variable Item_MRP\n",
    "b1 = plt.subplot(gs[0, 1])\n",
    "b1.set_title(\"Not Skewed\", fontsize=15)\n",
    "b1= sns.distplot(df_sales.Item_MRP)\n",
    "\n",
    "# for the variable Item_Outlet_Sales\n",
    "c1 = plt.subplot(gs[0, 2])\n",
    "c1.set_title(\"Positively Skewed\", fontsize=15)\n",
    "c1= sns.distplot(df_sales.Item_Outlet_Sales)\n",
    "\n",
    "# BOXPLOT\n",
    "# step 1: specify the location of the plot\n",
    "# step 2: plot the box plot\n",
    "# step 3: if required set the scale of X-axis using plt.xlim()\n",
    "\n",
    "# for the variable Profit\n",
    "a2 = plt.subplot(gs[1, 0])\n",
    "a2= sns.boxplot(df_sales.Profit)\n",
    "plt.xlim(0, 20)\n",
    "\n",
    "# for the variable Item_MRP\n",
    "b2 = plt.subplot(gs[1, 1])\n",
    "b2= sns.boxplot(df_sales.Item_MRP)\n",
    "\n",
    "# for the variable Item_Outlet_Sales\n",
    "c2 = plt.subplot(gs[1, 2])\n",
    "c2= sns.boxplot(df_sales.Item_Outlet_Sales)\n",
    "\n",
    "# SUMMARY STATISTICS\n",
    "# step 1: specify the location of the plot\n",
    "# step 2: specify the text along with its location\n",
    "# step 3: hide the x and y axes\n",
    "\n",
    "# for the variable Profit\n",
    "a3 = plt.subplot(gs[2, 0])\n",
    "a3.text(0.05, 0.2, s=str(df_sales.Profit.describe()), fontsize=15)\n",
    "a3.axis('off')\n",
    "\n",
    "# for the variable Item_MRP\n",
    "b3 = plt.subplot(gs[2, 1])\n",
    "b3.text(0.05, 0.2, s=str(df_sales.Item_MRP.describe()), fontsize=15)\n",
    "b3.axis('off')\n",
    "\n",
    "# for the variable Item_Outlet_Sales\n",
    "c3 = plt.subplot(gs[2, 2])\n",
    "c3.text(0.05, 0.2, s=str(df_sales.Item_Outlet_Sales.describe()), fontsize=15)\n",
    "c3.axis('off')\n",
    "\n",
    "# display the plot\n",
    "plt.show()"
   ]
  },
  {
   "cell_type": "markdown",
   "metadata": {
    "id": "n4k8hKD7Ha3D"
   },
   "source": [
    "**Interpretation:**<ol> <li> For the negatively skewed distribution, we see that the median in the boxplot is towards the third quartile. It can be verified with the help of the summary statistics displayed below it</li>\n",
    "                            <li> For a distribution with no skewness, we see that the median in the boxplot is equidistant from the first and the third quartiles </li>\n",
    "                            <li> For the positively skewed distribution, we see that the median in the boxplot is towards the first quartile </li>\n",
    "                            <li> The points beyond the whiskers of the boxplot are considered to be outliers</li>\n",
    "                    </ol>"
   ]
  },
  {
   "cell_type": "markdown",
   "metadata": {
    "id": "xVhIbWRlHa3D"
   },
   "source": [
    "### Boxplot for outliers\n",
    "\n",
    "A boxplot is also used to identify outliers. The points beyond, the whiskers are the outliers."
   ]
  },
  {
   "cell_type": "code",
   "execution_count": null,
   "metadata": {
    "id": "6HCgjEgnHa3D",
    "outputId": "6ae2e956-c147-4efb-d265-b9e8a68cbbad",
    "scrolled": false
   },
   "outputs": [],
   "source": [
    "# set the plot size\n",
    "plt.figure(figsize=(15,5))\n",
    "\n",
    "# plot the boxplot\n",
    "sns.boxplot(df_sales.Profit)\n",
    "\n",
    "# to draw the arrows \n",
    "# use the method annotate()\n",
    "# annotate the text at point xy\n",
    "# xytext: location of the text and the tail of the arrow\n",
    "# xy: location of the text and the head of the arrow\n",
    "# arrowprops: color of the arrow\n",
    "plt.annotate(\"Outliers\",xy = (7.5,0.01), xytext = (7.5, 0.3),arrowprops = {'facecolor' : 'black'})\n",
    "plt.annotate(\"Outliers\",xy = (17.5,0.1),  xytext = (17.5, 0.3),arrowprops = {'facecolor' : 'black'} )\n",
    "\n",
    "plt.show()"
   ]
  },
  {
   "cell_type": "markdown",
   "metadata": {
    "id": "3_krYe87Ha3D"
   },
   "source": [
    "**Interpretation:** From the above plot, it is seen that the variable `Profit` has outliers\n",
    "\n",
    "**In the later session, we will learn more about outlier treatment.**"
   ]
  },
  {
   "cell_type": "markdown",
   "metadata": {
    "id": "_711sVQ6Ha3D"
   },
   "source": [
    "### Z-Score\n",
    "\n",
    "Another way to detect outliers are using the z-score\n",
    "<ul>\n",
    "  <li>Z-score of a value is the difference between that value and the mean, divided by the standard deviation</li>\n",
    "  <li>Z-score of 0 indicates the value is the same as the mean</li>\n",
    "  <li>Z-score is positive or negative means the value is above or below the mean and by how many standard deviations</li>\n",
    "  <li>Z-score greater than 3 or less than -3, indicates an outlier value</li>\n",
    "</ul>"
   ]
  },
  {
   "cell_type": "code",
   "execution_count": null,
   "metadata": {
    "id": "P5X6C1JfHa3D",
    "outputId": "95b1f93c-e28b-4496-aa38-c28daa5b8a3f"
   },
   "outputs": [],
   "source": [
    "# Z-scores are defined for each observation in a variable\n",
    "# compute the z-scores using the method z-score from the scipy library \n",
    "zscores_Profit = scipy.stats.zscore(df_sales.Profit)\n",
    "\n",
    "# print the z-score\n",
    "zscores_Profit"
   ]
  },
  {
   "cell_type": "markdown",
   "metadata": {
    "id": "e18cQEAqHa3D"
   },
   "source": [
    "The output gives the z-scores of observations in the variable `Profit`."
   ]
  },
  {
   "cell_type": "code",
   "execution_count": null,
   "metadata": {
    "id": "LHk-iqRIHa3E",
    "outputId": "a840dd2f-c505-47cf-e41e-e31a68e5f2ee"
   },
   "outputs": [],
   "source": [
    "# to get the outliers in the variable\n",
    "zscores_Profit[(zscores_Profit < -3) | (zscores_Profit > 3)]"
   ]
  },
  {
   "cell_type": "markdown",
   "metadata": {
    "id": "GW2z1HMgHa3E"
   },
   "source": [
    "**Interpretation:** The above output gives the z-scores which are less than -3 and greater than 3. The values corresponding to these score are considered to be outliers"
   ]
  },
  {
   "cell_type": "markdown",
   "metadata": {
    "id": "22-0hoJQHa3E"
   },
   "source": [
    "<a id=\"corr_cov\"> </a>\n",
    "## 7. Covariance and Correlation"
   ]
  },
  {
   "cell_type": "markdown",
   "metadata": {
    "id": "TYSdxHd9Ha3E"
   },
   "source": [
    "<a id=\"corr\"></a>\n",
    "### 7.1 Correlation\n",
    "  <li>It shows whether pairs of variables are related to each other</li>\n",
    "  <li>If there is correlation, it shows how strong the correlation is</li>\n",
    "  <li>Correlation takes values between -1 to +1, where values close to +1 represents strong positive correlation while values close to -1 represents strong negative correlation</li>\n",
    "</ul>  \n"
   ]
  },
  {
   "cell_type": "code",
   "execution_count": null,
   "metadata": {
    "id": "A9iakjFvHa3E",
    "outputId": "d39d9a8a-854d-413a-e824-583aa015fd98",
    "scrolled": true
   },
   "outputs": [],
   "source": [
    "# calculate the correlation between the variables\n",
    "corr = df_sales.corr()\n",
    "\n",
    "# print correaltion matrix\n",
    "corr"
   ]
  },
  {
   "cell_type": "code",
   "execution_count": null,
   "metadata": {
    "id": "FU69HX6BHa3E",
    "outputId": "3b34e1d1-fac3-4588-f0a7-e8982c2274a6",
    "scrolled": false
   },
   "outputs": [],
   "source": [
    "# set the plot size\n",
    "fig,ax = plt.subplots(figsize=(10, 10))\n",
    "\n",
    "# plot a heatmap for the correlation matrix\n",
    "# annot: print values in each cell\n",
    "# linewidths: specify width of the line specifying the plot\n",
    "# vmin: minimum value of the variable\n",
    "# vmax: maximum value of the variable\n",
    "# cmap: colour code of the plot\n",
    "# fmt: set the decimal place of annot\n",
    "sns.heatmap(corr, annot = True, linewidths = 0.05, vmin = -1 , vmax = 1, cmap = \"YlGnBu\" , fmt = '10.4f')\n",
    "\n",
    "# display the plot\n",
    "plt.show()"
   ]
  },
  {
   "cell_type": "markdown",
   "metadata": {
    "id": "k8G2ALcbHa3E"
   },
   "source": [
    "<a id=\"cov\"> </a>\n",
    "## 7.2 Covariance\n",
    "\n",
    "<ul>\n",
    "  <li>It is the relationship between a pair of random variables where change in one variable causes change in another variable</li>\n",
    "  <li>It can take any value between -infinity to +infinity, where the negative value represents the negative relationship whereas a positive value represents the positive relationship</li>\n",
    "</ul>  \n",
    "\n",
    "</body>\n",
    "</html>"
   ]
  },
  {
   "cell_type": "code",
   "execution_count": null,
   "metadata": {
    "id": "gr12PwTMHa3E",
    "outputId": "43f8360c-8ee3-448f-b0fc-ddbc243746f2"
   },
   "outputs": [],
   "source": [
    "# obtain the covariance matrix\n",
    "cov = df_sales.cov()\n",
    "cov"
   ]
  },
  {
   "cell_type": "code",
   "execution_count": null,
   "metadata": {
    "id": "01gZS1GVHa3E",
    "outputId": "9b21b0b2-3d38-4a67-c177-12af91a4a598",
    "scrolled": false
   },
   "outputs": [],
   "source": [
    "# set the plot size\n",
    "fig,ax = plt.subplots(figsize=(15, 8))\n",
    "\n",
    "# plot a heatmap for the correlation matrix\n",
    "# annot: print values in each cell\n",
    "# linewidths: specify width of the line specifying the plot\n",
    "# vmin: minimum value of the variable\n",
    "# vmax: maximum value of the variable\n",
    "# cmap: colour code of the plot\n",
    "# fmt: set the decimal place of annot\n",
    "sns.heatmap(cov, annot = True, linewidths = 0.05, cmap = \"YlGnBu\", fmt = '.4f')\n",
    "\n",
    "# display the plot\n",
    "plt.show()"
   ]
  },
  {
   "cell_type": "markdown",
   "metadata": {
    "id": "ZI5k15vPHa3E"
   },
   "source": [
    "In this session we understood the variables in our dataset. We have a fair idea regarding its distribution and spread. In the next sessions, we shall continue with the univariate analysis followed by multivariate."
   ]
  },
  {
   "cell_type": "markdown",
   "metadata": {
    "id": "aZLwAVa9Ha3E"
   },
   "source": [
    "**Let us export this data to use for the next session.**"
   ]
  },
  {
   "cell_type": "code",
   "execution_count": null,
   "metadata": {
    "id": "LzqccZdHHa3E"
   },
   "outputs": [],
   "source": [
    "df_sales.to_csv(\"k-circlesales-cleaned.csv\")"
   ]
  }
 ],
 "metadata": {
  "colab": {
   "name": "Descriptive Statistics - Faculty Notebook (Day 1).ipynb",
   "provenance": []
  },
  "kernelspec": {
   "display_name": "Python 3 (ipykernel)",
   "language": "python",
   "name": "python3"
  },
  "language_info": {
   "codemirror_mode": {
    "name": "ipython",
    "version": 3
   },
   "file_extension": ".py",
   "mimetype": "text/x-python",
   "name": "python",
   "nbconvert_exporter": "python",
   "pygments_lexer": "ipython3",
   "version": "3.9.7"
  }
 },
 "nbformat": 4,
 "nbformat_minor": 1
}
